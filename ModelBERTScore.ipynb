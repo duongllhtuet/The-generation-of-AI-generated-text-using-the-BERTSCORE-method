{
 "cells": [
  {
   "cell_type": "markdown",
   "metadata": {},
   "source": [
    "# Prerequisites\n",
    "Ensure you have the necessary libraries installed. You can install bert_score and pandas using pip:"
   ]
  },
  {
   "cell_type": "code",
   "execution_count": 16,
   "metadata": {},
   "outputs": [
    {
     "name": "stdout",
     "output_type": "stream",
     "text": [
      "Requirement already satisfied: bert_score in /Users/nobitad/anaconda3/lib/python3.11/site-packages (0.3.13)\n",
      "Requirement already satisfied: torch>=1.0.0 in /Users/nobitad/anaconda3/lib/python3.11/site-packages (from bert_score) (2.1.1)\n",
      "Requirement already satisfied: pandas>=1.0.1 in /Users/nobitad/anaconda3/lib/python3.11/site-packages (from bert_score) (2.1.3)\n",
      "Requirement already satisfied: transformers>=3.0.0 in /Users/nobitad/anaconda3/lib/python3.11/site-packages (from bert_score) (4.32.1)\n",
      "Requirement already satisfied: numpy in /Users/nobitad/anaconda3/lib/python3.11/site-packages (from bert_score) (1.24.3)\n",
      "Requirement already satisfied: requests in /Users/nobitad/anaconda3/lib/python3.11/site-packages (from bert_score) (2.31.0)\n",
      "Requirement already satisfied: tqdm>=4.31.1 in /Users/nobitad/anaconda3/lib/python3.11/site-packages (from bert_score) (4.65.0)\n",
      "Requirement already satisfied: matplotlib in /Users/nobitad/anaconda3/lib/python3.11/site-packages (from bert_score) (3.7.2)\n",
      "Requirement already satisfied: packaging>=20.9 in /Users/nobitad/anaconda3/lib/python3.11/site-packages (from bert_score) (23.2)\n",
      "Requirement already satisfied: python-dateutil>=2.8.2 in /Users/nobitad/anaconda3/lib/python3.11/site-packages (from pandas>=1.0.1->bert_score) (2.8.2)\n",
      "Requirement already satisfied: pytz>=2020.1 in /Users/nobitad/anaconda3/lib/python3.11/site-packages (from pandas>=1.0.1->bert_score) (2023.3.post1)\n",
      "Requirement already satisfied: tzdata>=2022.1 in /Users/nobitad/anaconda3/lib/python3.11/site-packages (from pandas>=1.0.1->bert_score) (2023.3)\n",
      "Requirement already satisfied: filelock in /Users/nobitad/anaconda3/lib/python3.11/site-packages (from torch>=1.0.0->bert_score) (3.13.1)\n",
      "Requirement already satisfied: typing-extensions in /Users/nobitad/anaconda3/lib/python3.11/site-packages (from torch>=1.0.0->bert_score) (4.7.1)\n",
      "Requirement already satisfied: sympy in /Users/nobitad/anaconda3/lib/python3.11/site-packages (from torch>=1.0.0->bert_score) (1.11.1)\n",
      "Requirement already satisfied: networkx in /Users/nobitad/anaconda3/lib/python3.11/site-packages (from torch>=1.0.0->bert_score) (3.1)\n",
      "Requirement already satisfied: jinja2 in /Users/nobitad/anaconda3/lib/python3.11/site-packages (from torch>=1.0.0->bert_score) (3.1.2)\n",
      "Requirement already satisfied: fsspec in /Users/nobitad/anaconda3/lib/python3.11/site-packages (from torch>=1.0.0->bert_score) (2023.4.0)\n",
      "Requirement already satisfied: huggingface-hub<1.0,>=0.15.1 in /Users/nobitad/anaconda3/lib/python3.11/site-packages (from transformers>=3.0.0->bert_score) (0.15.1)\n",
      "Requirement already satisfied: pyyaml>=5.1 in /Users/nobitad/anaconda3/lib/python3.11/site-packages (from transformers>=3.0.0->bert_score) (6.0.1)\n",
      "Requirement already satisfied: regex!=2019.12.17 in /Users/nobitad/anaconda3/lib/python3.11/site-packages (from transformers>=3.0.0->bert_score) (2022.7.9)\n",
      "Requirement already satisfied: tokenizers!=0.11.3,<0.14,>=0.11.1 in /Users/nobitad/anaconda3/lib/python3.11/site-packages (from transformers>=3.0.0->bert_score) (0.13.2)\n",
      "Requirement already satisfied: safetensors>=0.3.1 in /Users/nobitad/anaconda3/lib/python3.11/site-packages (from transformers>=3.0.0->bert_score) (0.3.2)\n",
      "Requirement already satisfied: contourpy>=1.0.1 in /Users/nobitad/anaconda3/lib/python3.11/site-packages (from matplotlib->bert_score) (1.0.5)\n",
      "Requirement already satisfied: cycler>=0.10 in /Users/nobitad/anaconda3/lib/python3.11/site-packages (from matplotlib->bert_score) (0.11.0)\n",
      "Requirement already satisfied: fonttools>=4.22.0 in /Users/nobitad/anaconda3/lib/python3.11/site-packages (from matplotlib->bert_score) (4.25.0)\n",
      "Requirement already satisfied: kiwisolver>=1.0.1 in /Users/nobitad/anaconda3/lib/python3.11/site-packages (from matplotlib->bert_score) (1.4.4)\n",
      "Requirement already satisfied: pillow>=6.2.0 in /Users/nobitad/anaconda3/lib/python3.11/site-packages (from matplotlib->bert_score) (9.4.0)\n",
      "Requirement already satisfied: pyparsing<3.1,>=2.3.1 in /Users/nobitad/anaconda3/lib/python3.11/site-packages (from matplotlib->bert_score) (3.0.9)\n",
      "Requirement already satisfied: charset-normalizer<4,>=2 in /Users/nobitad/anaconda3/lib/python3.11/site-packages (from requests->bert_score) (2.0.4)\n",
      "Requirement already satisfied: idna<4,>=2.5 in /Users/nobitad/anaconda3/lib/python3.11/site-packages (from requests->bert_score) (2.10)\n",
      "Requirement already satisfied: urllib3<3,>=1.21.1 in /Users/nobitad/anaconda3/lib/python3.11/site-packages (from requests->bert_score) (1.26.16)\n",
      "Requirement already satisfied: certifi>=2017.4.17 in /Users/nobitad/anaconda3/lib/python3.11/site-packages (from requests->bert_score) (2023.7.22)\n",
      "Requirement already satisfied: six>=1.5 in /Users/nobitad/anaconda3/lib/python3.11/site-packages (from python-dateutil>=2.8.2->pandas>=1.0.1->bert_score) (1.16.0)\n",
      "Requirement already satisfied: MarkupSafe>=2.0 in /Users/nobitad/anaconda3/lib/python3.11/site-packages (from jinja2->torch>=1.0.0->bert_score) (2.1.1)\n",
      "Requirement already satisfied: mpmath>=0.19 in /Users/nobitad/anaconda3/lib/python3.11/site-packages (from sympy->torch>=1.0.0->bert_score) (1.3.0)\n"
     ]
    }
   ],
   "source": [
    "!pip install bert_score"
   ]
  },
  {
   "cell_type": "markdown",
   "metadata": {},
   "source": [
    "# Script explanation\n",
    "\n",
    "The script reads data from two CSV files containing reference texts and candidate texts. It ensures both datasets have the same number of samples, processes the data in batches, and calculates the average Precision, Recall, and F1 scores using BERTScore."
   ]
  },
  {
   "cell_type": "code",
   "execution_count": 11,
   "metadata": {},
   "outputs": [
    {
     "name": "stdout",
     "output_type": "stream",
     "text": [
      "calculating scores...\n",
      "computing bert embedding.\n"
     ]
    },
    {
     "data": {
      "application/vnd.jupyter.widget-view+json": {
       "model_id": "d39f4e93ee664acb8ee14043661c856e",
       "version_major": 2,
       "version_minor": 0
      },
      "text/plain": [
       "  0%|          | 0/3 [00:00<?, ?it/s]"
      ]
     },
     "metadata": {},
     "output_type": "display_data"
    },
    {
     "name": "stdout",
     "output_type": "stream",
     "text": [
      "computing greedy matching.\n"
     ]
    },
    {
     "data": {
      "application/vnd.jupyter.widget-view+json": {
       "model_id": "5c036340c1c44a16a082ce03845a90cc",
       "version_major": 2,
       "version_minor": 0
      },
      "text/plain": [
       "  0%|          | 0/2 [00:00<?, ?it/s]"
      ]
     },
     "metadata": {},
     "output_type": "display_data"
    },
    {
     "name": "stdout",
     "output_type": "stream",
     "text": [
      "done in 95.76 seconds, 0.71 sentences/sec\n",
      "Precision: 0.6155175566673279, Recall: 0.5990347862243652, F1: 0.6066120862960815\n"
     ]
    }
   ],
   "source": [
    "from bert_score import score\n",
    "import pandas as pd\n",
    "\n",
    "# Đọc dữ liệu từ các tệp CSV\n",
    "df_references = pd.read_csv('/Users/nobitad/Workspace/MyProject/Seminar/Datasets/sampled_df.csv')\n",
    "df_candidates = pd.read_csv('/Users/nobitad/Workspace/MyProject/Seminar/Datasets/testing_set/concatenated_file.csv')\n",
    "\n",
    "# Đảm bảo số lượng mẫu trong cả dữ liệu tham chiếu và ứng viên là bằng nhau\n",
    "min_samples = min(len(df_references), len(df_candidates))\n",
    "df_references = df_references.sample(n=min_samples, random_state=42)\n",
    "df_candidates = df_candidates.sample(n=min_samples, random_state=42)\n",
    "\n",
    "# Lấy danh sách các văn bản tham chiếu và ứng viên\n",
    "references = df_references['essay'].values.tolist()\n",
    "candidates = df_candidates['essay'].values.tolist()\n",
    "\n",
    "# Tính điểm BERTScore cho toàn bộ tập dữ liệu\n",
    "P, R, F1 = score(candidates, references, lang=\"vi\", verbose=True)\n",
    "\n",
    "# Tính điểm trung bình cho toàn bộ tập dữ liệu\n",
    "avg_P = P.mean().item()\n",
    "avg_R = R.mean().item()\n",
    "avg_F1 = F1.mean().item()\n",
    "\n",
    "print(f\"Precision: {avg_P}, Recall: {avg_R}, F1: {avg_F1}\")"
   ]
  },
  {
   "cell_type": "code",
   "execution_count": 14,
   "metadata": {},
   "outputs": [
    {
     "name": "stdout",
     "output_type": "stream",
     "text": [
      "calculating scores...\n",
      "computing bert embedding.\n"
     ]
    },
    {
     "data": {
      "application/vnd.jupyter.widget-view+json": {
       "model_id": "9c60c8e573104c808fb50b9629128056",
       "version_major": 2,
       "version_minor": 0
      },
      "text/plain": [
       "  0%|          | 0/1 [00:00<?, ?it/s]"
      ]
     },
     "metadata": {},
     "output_type": "display_data"
    },
    {
     "name": "stdout",
     "output_type": "stream",
     "text": [
      "computing greedy matching.\n"
     ]
    },
    {
     "data": {
      "application/vnd.jupyter.widget-view+json": {
       "model_id": "9b141b1e1daf4c208fba7d4a8061e8a2",
       "version_major": 2,
       "version_minor": 0
      },
      "text/plain": [
       "  0%|          | 0/1 [00:00<?, ?it/s]"
      ]
     },
     "metadata": {},
     "output_type": "display_data"
    },
    {
     "name": "stdout",
     "output_type": "stream",
     "text": [
      "done in 20.53 seconds, 0.49 sentences/sec\n",
      "calculating scores...\n",
      "computing bert embedding.\n"
     ]
    },
    {
     "data": {
      "application/vnd.jupyter.widget-view+json": {
       "model_id": "bdccbc5a1c2a40c7bd47f977c8bb5752",
       "version_major": 2,
       "version_minor": 0
      },
      "text/plain": [
       "  0%|          | 0/1 [00:00<?, ?it/s]"
      ]
     },
     "metadata": {},
     "output_type": "display_data"
    },
    {
     "name": "stdout",
     "output_type": "stream",
     "text": [
      "computing greedy matching.\n"
     ]
    },
    {
     "data": {
      "application/vnd.jupyter.widget-view+json": {
       "model_id": "a19fcc3e4ee24cc5b8570bea4a57689b",
       "version_major": 2,
       "version_minor": 0
      },
      "text/plain": [
       "  0%|          | 0/1 [00:00<?, ?it/s]"
      ]
     },
     "metadata": {},
     "output_type": "display_data"
    },
    {
     "name": "stdout",
     "output_type": "stream",
     "text": [
      "done in 19.67 seconds, 0.51 sentences/sec\n",
      "calculating scores...\n",
      "computing bert embedding.\n"
     ]
    },
    {
     "data": {
      "application/vnd.jupyter.widget-view+json": {
       "model_id": "84015c0543b74d27b41df27eb8acf76e",
       "version_major": 2,
       "version_minor": 0
      },
      "text/plain": [
       "  0%|          | 0/1 [00:00<?, ?it/s]"
      ]
     },
     "metadata": {},
     "output_type": "display_data"
    },
    {
     "name": "stdout",
     "output_type": "stream",
     "text": [
      "computing greedy matching.\n"
     ]
    },
    {
     "data": {
      "application/vnd.jupyter.widget-view+json": {
       "model_id": "935f32d43b534082a6865f21d73138b3",
       "version_major": 2,
       "version_minor": 0
      },
      "text/plain": [
       "  0%|          | 0/1 [00:00<?, ?it/s]"
      ]
     },
     "metadata": {},
     "output_type": "display_data"
    },
    {
     "name": "stdout",
     "output_type": "stream",
     "text": [
      "done in 19.73 seconds, 0.51 sentences/sec\n",
      "calculating scores...\n",
      "computing bert embedding.\n"
     ]
    },
    {
     "data": {
      "application/vnd.jupyter.widget-view+json": {
       "model_id": "27f4a04ee88b47eca163455ea411624a",
       "version_major": 2,
       "version_minor": 0
      },
      "text/plain": [
       "  0%|          | 0/1 [00:00<?, ?it/s]"
      ]
     },
     "metadata": {},
     "output_type": "display_data"
    },
    {
     "name": "stdout",
     "output_type": "stream",
     "text": [
      "computing greedy matching.\n"
     ]
    },
    {
     "data": {
      "application/vnd.jupyter.widget-view+json": {
       "model_id": "562b9a7a1a84435ab768d6f817c55d2d",
       "version_major": 2,
       "version_minor": 0
      },
      "text/plain": [
       "  0%|          | 0/1 [00:00<?, ?it/s]"
      ]
     },
     "metadata": {},
     "output_type": "display_data"
    },
    {
     "name": "stdout",
     "output_type": "stream",
     "text": [
      "done in 19.14 seconds, 0.52 sentences/sec\n",
      "calculating scores...\n",
      "computing bert embedding.\n"
     ]
    },
    {
     "data": {
      "application/vnd.jupyter.widget-view+json": {
       "model_id": "a1592f596dc24d58aa46947cfc47c8d7",
       "version_major": 2,
       "version_minor": 0
      },
      "text/plain": [
       "  0%|          | 0/1 [00:00<?, ?it/s]"
      ]
     },
     "metadata": {},
     "output_type": "display_data"
    },
    {
     "name": "stdout",
     "output_type": "stream",
     "text": [
      "computing greedy matching.\n"
     ]
    },
    {
     "data": {
      "application/vnd.jupyter.widget-view+json": {
       "model_id": "f6975d1fc377461e8a164a52bf64730c",
       "version_major": 2,
       "version_minor": 0
      },
      "text/plain": [
       "  0%|          | 0/1 [00:00<?, ?it/s]"
      ]
     },
     "metadata": {},
     "output_type": "display_data"
    },
    {
     "name": "stdout",
     "output_type": "stream",
     "text": [
      "done in 20.66 seconds, 0.48 sentences/sec\n",
      "calculating scores...\n",
      "computing bert embedding.\n"
     ]
    },
    {
     "data": {
      "application/vnd.jupyter.widget-view+json": {
       "model_id": "462b87dc28c44fe2af8b26ff313a23ae",
       "version_major": 2,
       "version_minor": 0
      },
      "text/plain": [
       "  0%|          | 0/1 [00:00<?, ?it/s]"
      ]
     },
     "metadata": {},
     "output_type": "display_data"
    },
    {
     "name": "stdout",
     "output_type": "stream",
     "text": [
      "computing greedy matching.\n"
     ]
    },
    {
     "data": {
      "application/vnd.jupyter.widget-view+json": {
       "model_id": "9f05b31d0fd64b40a05cdf59547e516d",
       "version_major": 2,
       "version_minor": 0
      },
      "text/plain": [
       "  0%|          | 0/1 [00:00<?, ?it/s]"
      ]
     },
     "metadata": {},
     "output_type": "display_data"
    },
    {
     "name": "stdout",
     "output_type": "stream",
     "text": [
      "done in 19.76 seconds, 0.51 sentences/sec\n",
      "Precision: 0.6130358576774597, Recall: 0.5951871971289316, F1: 0.6034377912680308\n",
      "Batch có điểm F1 trung bình cao nhất là batch 4 với điểm F1 trung bình là 0.6119798421859741\n",
      "Candidate: The Impact of Isolation on Resilience\n",
      "\n",
      "The setting in Joe Kurmaskie's essay profoundly impacts the cyclist's resilience, testing his limits in an environment of isolation and desolation. The journey begins with a deceptive sense of peace at the reservoir campground outside of Lodi, California. The early-summer evening and lively conversation with the old-timers create a false sense of security.\n",
      "\n",
      "As the cyclist follows the old-timers' advice, he quickly finds himself in a barren, unforgiving landscape. The first \"town\" he encounters is a ghost town, reflecting the area's decline and isolation. This sets the stage for the cyclist's journey through a desolate environment where resources are scarce.\n",
      "\n",
      "The lack of water sources, such as the brackish water from the rusted pump, exacerbates his dehydration and desperation. The high deserts of California, with their intense heat and rolling hills, further isolate the cyclist. The warning sign of \"ROUGH ROAD AHEAD: DO NOT EXCEED POSTED SPEED LIMIT\" serves as a stark reminder of the challenges ahead. The cyclist's slow pace of 12 mph highlights the difficulty of navigating this terrain, contrasting sharply with the posted speed limit of 55 mph.\n",
      "\n",
      "Encounters with tumbleweeds and a large snake add to the sense of danger and isolation. The abandoned Welch’s Grape Juice factory symbolizes the cyclist's dashed hopes and the irony of his situation. Despite the harsh reality of the setting, the cyclist's perseverance and eventual discovery of Gary and Wilber’s Fish Camp highlight the resilience required to navigate such an unforgiving environment.\n",
      "Reference: Laughter is important in my life for many reasons. With out laughter my life wouldn't be as wonderful as it is right now. I have many people in my life that make laughter the best way to brighten up my day, like my friends, family, and boyfriend. I have many stories in which laughter was a part of my life, but I'm going to tell you a story about how my boyfriend used laughter to make me feel better and not think about my stomach ache.    It all happened on a @DATE1 @TIME1 @CAPS1 I was heading home from my boyfriends house. We were sitting on the max and my stomach started to hurt. I told my boyfriend about it and he told me that it's probably because I haven't ate anything. I was worried because it was going to be a long trip home. On our trip to my house my boyfriend was trying to distract me so I wouldn't worrying so much about my stomach ache. He started talking to me and telling me how my day was at school and I told him that my day was okay, not bad.     We started talking for awhile, up until my boyfriend took off his hat and said ''from flat to volume!'' @CAPS1 my boyfriend took off his hat and said that I bursted out laughing! I was laughing so hard that instead of my stomach hurting because I didn't eat all day, it was hurting because of how hard and how much I was laughing. I was laughing so hard because my boyfriends hair was all messed up. His hair looked so funny! As I was trying not to laugh I asked my boyfriend why his hair was like that? He started telling me that @CAPS1 he was taking a shower he had grabbed a shampoo bottle that said from flat to volume and he didn't know that his hair was going to have so much volume.The whole way home I couldn't stop laughing about my boyfriends hair. I thought it was so funny, that I had forgotten about my stomach ache.     Till this day I still laugh about my boyfriends hair and how it looked that day. We now have an inside joke and every time I remember that day I tell him ''from flat to volume'' and we both just start laughing.Now i know thatlaughter is the best medicine for me @CAPS1 I have a stomach ache. Laughter will always be a part of me and my life no matter what!\n",
      "Precision: 0.593258261680603, Recall: 0.5805583000183105, F1: 0.5868395566940308\n",
      "-----\n",
      "Candidate: Laughter Across Generations: Connecting Through Humor\n",
      "Reflect on an intergenerational experience where laughter bridged the gap between different age groups. Whether it was swapping jokes with grandparents or sharing funny stories with grandchildren, illustrate how humor can foster connections and mutual understanding across generations.\n",
      "Reference: Picture this: you come home one day after work and before you even enter the house, you hear music blaring from your child's room. As you step closer, you begin to hear the lyrics that go with the banging bass and you realize that that isn't just any music, it's completely unedited, expicit versions of vulgar songs. Now, who would want their child listening to songs that make it seem like drinking, doing drugs, and other various risky activities are okay? I know I sure wouldn't.     Music isn't the only source of offensive material in today's society. It can be found nearly anywhere. In books, magazines, @CAPS1 shows, movies, on the @CAPS2, you name it. All of these are easily accessible by children of all ages. That is why there should be censorship of certain materials, to a certain degree. By this, I mean that if there is a dirty book in a public library, it should only be able to be rented by people who are of a certain age. Just because it's bad doesn't mean that it has to completely vanish from the face of the world. There should just be a limitation on who can view it. That applies to everything that could contain offensive material.      Kids are kids. There are certain things that should be absolutely off limits to them--such as explicit movies, books, music, etc.--as they do not need to know about drugs, sex, or alcohol at such a young age. Censorship should definitely be in effect in places like public libraries where young children are bound to be. But, as mentioned earlier, censorship should only be to a certain degree. Keeping childrens' minds clean for as long as possible would be a very positive thing to do for both them and our society in general\n",
      "Precision: 0.606774628162384, Recall: 0.5549238920211792, F1: 0.5796920657157898\n",
      "-----\n",
      "Candidate: Title: Upholding Freedom: The Case Against Censorship in Libraries\n",
      "\n",
      "In the ongoing discourse surrounding censorship in libraries, it is crucial to uphold the principles of intellectual freedom and diversity of expression. As Katherine Paterson poignantly asserts, the ability to remove materials deemed objectionable sets a dangerous precedent, threatening the very essence of a library as a repository of knowledge and ideas. Thus, I firmly oppose any form of censorship in libraries, including the removal of books, music, movies, or magazines.\n",
      "\n",
      "Censorship in libraries not only infringes upon the fundamental right to access information but also stifles the exchange of ideas essential for a thriving democracy. By selectively removing materials based on subjective interpretations of offensiveness, censors undermine the autonomy of individuals to explore diverse perspectives and form their own opinions. This not only hampers intellectual growth but also perpetuates a climate of intellectual conformity and stagnation.\n",
      "\n",
      "Moreover, censorship in libraries is a form of intellectual paternalism that undermines individual autonomy and agency. By presuming to dictate what individuals can or cannot read, watch, or listen to, censors infringe upon the fundamental principle of freedom of choice. It is not the role of libraries or any other authority to shield individuals from ideas that some may find uncomfortable or objectionable.\n",
      "\n",
      "Furthermore, the notion of offensiveness is inherently subjective and varies greatly across individuals and communities. What one person deems offensive, another may find enlightening or thought-provoking. To impose one group's moral or cultural standards on an entire community not only stifles diversity of thought but also perpetuates a climate of intolerance and censorship.\n",
      "\n",
      "Critics of unrestricted access to library materials often argue that certain content may be harmful, particularly to young or impressionable minds. While this concern is valid, censorship is not the solution. Instead of banning or removing materials outright, we should focus on promoting media literacy and critical thinking skills. By equipping individuals with the tools to evaluate information critically, we empower them to make informed choices and navigate the complexities of the modern media landscape.\n",
      "\n",
      "In conclusion, censorship in libraries undermines the principles of intellectual freedom and diversity of thought that are essential for a free and democratic society. Instead of succumbing to the impulse to censor, we must reaffirm our commitment to the principles of free speech and open inquiry. Only by embracing diverse perspectives and ideas can we truly enrich our understanding of the world and foster a more inclusive and democratic society.\n",
      "Reference: I do not believe books, music, and magazines should be removed from shelves. Wherever you go in the world, whether you like it or not, your going to come in contact with things you don't find appropriate or you think are offensive. @TIME1 world is far from perfect. One reason i don't belive they should be removed is because it would be unconstitutional. The freedon of speech and the press was not ment to be tampered with. If a specific library thinks their articles are innapropriate, an easy solution would be to put these articles in a certain section of the library and warn people what they are.     The main reason I don't believe books, music, and magazines should be removed from the shelves is becuase the world is a nasty place and books are the least of your concerns. Kids can't be sheltered their whole lifes, they need to face reality and books are a good source of that. Kids these days are resiliant and can handle 'innapropriate' content. Parents need to face the fact that their kids are going to be exposed to offensive things in @TIME1 imperfect world of ours. It's just a natural part of growing up.     Another contributing factor is that it would be unconstitutional to remove books and other articles from the shelves of @LOCATION1's libraries. When the amendments freedom of speech and press were written down they were intended to stay there. They are not guidlines that can be looked over, they are rules set in stone for @TIME1 great country. People to @TIME1 for freedom over much bigger issues than books. Who are we to tell people what they can and can't write down. People's natural opinions can't and shouldn't be governed. I think it would be a crime against @LOCATION1 to censor things in libraries.     My final reason for not censoring libraries is that it all boils down to the people running the library. If they think some of their articles are profound and innapropriate, meerly isolate them to a certain section of the library and put a warning for people to see. If people don't want to be offended they simply have to just stay away from these sections. Take responsibilty for what is in these libraries that is apparently so offending and put them in their own area and stay away from them, do not take them out completely, because who knows someone @MONTH1 want that offending book.     These are all supporting opinions why I personally do not belive libraries should be censored. @TIME1 world is far from perfect and it's not going to become perfect by censoring libraries. Plus @TIME1 act would be completely unconstitutional. Finally all the libraries have to do is exile these articles to certain areas of the libraries and slap a warning on them. If libraries were censored there would be a lot of missing information in @TIME1 world because there are many things in @TIME1 world that are 'offensive' to atleast someone\n",
      "Precision: 0.6785827875137329, Recall: 0.6745134592056274, F1: 0.6765419840812683\n",
      "-----\n",
      "Candidate: Hope and Renewal in \"Winter Hibiscus\"\n",
      "In \"Winter Hibiscus\" by Minfong Ho, Saeng's vow to retake her driver's test in the spring symbolizes a message of hope and renewal. Despite the difficulties she faces in adapting to her new life in the United States, Saeng remains determined to persevere and overcome obstacles. The closing paragraph serves as a reminder of the resilience of the human spirit and the possibility of growth and transformation, even in the face of adversity.\n",
      "Reference: Dear @CAPS1 of my local news paper: @CAPS2 you believe this garbage that the so called expert are saying about computers? I sure hope you don't! They are saying that computers are health risks because to many people are on them and not exercising, well if you risk me the users should know when to stop. And well when it comes to interacting with family the parents should set limits. Also computers are very convient, if you need information on a topic right away. So there far I think computers are not the one's at, in this perdevment. Exercising is somthing a perosn should have the ambition to do. @MONTH1 people don't have this they spend their day on the computer. they claim its not their faut. the computer is a you to play it. I read just last week that someone actolly told her press they it is not fault her over weight. Thats ! So the only person at full. for not getting the the gamer. As us family interaction goes, all up to the parents the use the parents are in control over they child and if they are that their kid doesn't spend enough time. The operator should have the will power to know when enough is enough and lay down the and set limits!. If we didn't have computers at home it would be a. Kids relie on computer them quick, accurate information. With not them the parents should their child to and from the library, and the time. And lets not forget the internet easy. So in conclusion computers are the way to go they are not the cause or however luck of exrcising at fault. Its not the computers fault familys. And they are just so convenit so clearly computer are good to have! I truly hope by the letter you agree with my oppinion.\n",
      "Precision: 0.5946951508522034, Recall: 0.5535097122192383, F1: 0.5733638405799866\n",
      "-----\n",
      "Candidate: Cultural Connections Through Comedy\n",
      "Explore how humor transcends cultural barriers by sharing a story from a cross-cultural encounter. Describe a situation where laughter served as a universal language, fostering understanding and connection between people from different backgrounds.\n",
      "Reference: I dont see any reason why to take books off the shelves. If someone doesnt like a book, then they dont have to read it. Books are ment to entertain or inform people. There are books that talk about black people in a bad manner, but they still need to be out there so that people will know. Libraries are out to make money thats all. Let them make money, they can sell whatever they want.      If I had a library I would sell just about anything i could. people will: watch, listen, read anything. So why not sell it or rent it out. It's a honest way of making money.\n",
      "Precision: 0.617465078830719, Recall: 0.6002206206321716, F1: 0.6087207198143005\n",
      "-----\n",
      "Candidate: The Patient Teacher\n",
      "\n",
      "Mrs. Anderson was a teacher at the local elementary school. She had a student named Jamie who struggled with reading. While other teachers had given up, Mrs. Anderson saw potential in Jamie. Every day after school, she would spend an extra hour with him, going over each word slowly and encouraging him to sound them out. It took months, but Jamie's reading improved. Mrs. Anderson’s patience not only helped Jamie academically but also instilled in him a lifelong love for learning. Her understanding and tolerance changed his life.\n",
      "Reference:  Laughter is used as a \"cure\" for everything. Through out life, people underestimate the power of laughter. Laughter and joy have always been my personal way of getting to know other people better. I personally use laughter to create a bond that another person and I can relate at a level to be able to share our thoughts and our feelings through laughter. Laughter is very important through life. Laughter can help someone find people that have similar and common interests as one's self, laughter can create good relationships between compatible people, and to help create stories that are explained later in life. Throughout life, there will always be that one person or that group of people that can enjoy similar things. I have been involved in a lot of social groups. In most of these groups laughter is a common thing between all of these groups. Without this similar interest, Laughter would not exist through life. Laughter helps through every day life. People find these common interests between people and start to create relationships between people that did not exist before. These relationships might be shown through co-workers, through authoritative figures, and friends and family throughout every day life. Someone once said, \"Laughter is the shortest distance between two people.\" The relationships between people are built from laughter and enjoyment of being with other people. These relationships are formed at a social level with friendly people. Without these relationships, people would never have good times throughout their life. These relationships are created to help introduce the the stories about life. In my life I have had bad times and good times. The bad times that have occurred through my life are when family member have died. My great grandparents on both of my sides of my family have died. Another horrible thing that has happened in my life is that is that one of my friends died at an early age. What happened is that he was riding an all terrain vehicle. But the good things through my life have been breath taking. The one thing that has been breath taking from my life is most of my conversations with my friends. Laughter is the key point in conversation. When I first started my relationship with @PERSON1 all I could think about was being able to enjoy the times that I have with her. On the first day that we started spending time with each other we could not stop laughing. Everything that either I said or something she did was hilarious to me. The most common thing that we had in common was laughter. At every basketball game we would try and spend as much time as we can together. We try to get to know each other a little bit better by finding common interests through laughing because, \"Laughter is the shortest distance between two people.\" Laughter can help someone find people that have common interests as one's self, laughter can create good relationships between compatible people, and to help create stories that are explained later in life. Laughter is used in a personal level to become closer to that person. Laughter can be used through every day life. Laughter is an element to a relationship that should always exist.\n",
      "Precision: 0.6380060911178589, Recall: 0.5997134447097778, F1: 0.6182674169540405\n",
      "-----\n",
      "Candidate: Inclusive and Communal\n",
      "\n",
      "The memoir conveys an inclusive and communal mood. Rodriguez's depiction of his neighborhood as a melting pot of different cultures coming together in solidarity showcases a strong sense of community. He writes, \"In our neighborhood... all of these cultures came together in great solidarity and friendship,\" emphasizing the inclusivity and communal spirit that defined his early life.\n",
      "Reference: As the setting changes in the story, so does the cyclists narrators mood. His mood changes from happy and confident to indifferent and scared. At first the cyclist is so happy about Yosemite that he is just care free and no worries at all. He says that, I rode into the morning with strong legs and a smile on my face. Even at his first ghost town he just chuckled, checked my water supply, and moved on. After this point he could not be so care free. After this town he came to, One ramshackle shed, several thirsty pumps, and men. He said, this was troubling, it was very hot and he had been drinking his water pretty often. He said that, He failed on.\" He started to get sort of scared he realized that he could, \"drop from a heatstroke.\" He was scared that because of his idea to believe the old men he might possibly die. He finally get happy when he reaches the bait shop and he got his drink. From then on the stock to his map. His attitude changed greatly throughout the story.\n",
      "Precision: 0.6328956484794617, Recall: 0.5989037752151489, F1: 0.6154307126998901\n",
      "-----\n",
      "Candidate: Navigating Cultural Identity in \"Winter Hibiscus\"\n",
      "In \"Winter Hibiscus\" by Minfong Ho, Saeng's encounter with familiar plants highlights the complexities of navigating cultural identity in a new environment. Despite feeling alienated and disconnected in the United States, Saeng finds solace and comfort in the presence of plants from her homeland. The closing paragraph, where Saeng resolves to retake her driver's test, symbolizes her determination to forge a sense of belonging while honoring her Vietnamese heritage.\n",
      "Reference: The author ends the story with that paragraph because she is trying to overcome an obstacle. Failing the drivers test was a set back for Saeng so she plans to take it again. She plans to use the hibiscus as motivation, because the winter for the hibiscus is like overcoming an obstacle.\n",
      "Precision: 0.6730895638465881, Recall: 0.6961941719055176, F1: 0.6844469308853149\n",
      "-----\n",
      "Candidate: The Empire's Beacon: Illuminating the Skies\n",
      "Highlight the unique feature of the illuminated mooring mast and its significance as a beacon in the New York City skyline. Discuss how the lighting design contributed to the building's iconic status and served as a symbol of progress and innovation.\n",
      "Reference: I think people should not spend so much time on the computer. This are three reason a think that. My frist reason is if people stay on the computer for a long amount of time it can mess up the way you see. My second reason itis that you could be spending time with family and friends. My last reason is that people that sit all day on a computer gain more weight. First I think people should not be staying on the computer all day. Because it can mess up the way you see this can happen because from u looking at a computer screen all day or eyes can get mess up. I think u should never stay on a computer for no more than a hour. And sometimes u no u been on it for to long when ur eyes started to hurt. My second reason u should not stay on the computer for a long time is because when u are secting there. Doing wat you are doing. You can be messing out on fun thing that u can be doing with ur family our with friends. But some people would just like to sect all day end look at a computer screen and some people start not to like going out our even beeging a social person. My last reason people should not be on the computer for a long time because some people will just seat there and eat food all day. And this will make them get more weight. And this can make there life wader because now they are on heelthy they are just seating down all day anyways. And they should be going outside end running around. This are my three reason I think people should not stay on the computer all day. One it mess up they way u see, second you are messing out on fun thing u can do with our family, end last people are graning more weight when seat on the computer all day.\n",
      "Precision: 0.5592498779296875, Recall: 0.50465989112854, F1: 0.5305543541908264\n",
      "-----\n",
      "Candidate: The Patient Friend\n",
      "\n",
      "Alex and Sam had been best friends since childhood. Sam had a tendency to make impulsive decisions, often landing himself in trouble. Alex, on the other hand, was patient and level-headed. When Sam lost his job and spiraled into a deep depression, Alex stood by him. He listened to Sam’s frustrations, offered support, and never judged him. It took time, but with Alex’s patience and understanding, Sam found a new job and got back on his feet. Their friendship grew stronger, demonstrating the power of patience and loyalty.\n",
      "Reference: Saeng vows this to herself at the end of the story to show that she will adapt to this change, just like the hibiscus will bud. She knows that it will be hard and take time, but in the end she will achieve approval and happiness. We see that it is already hard for her by the way she breaks down crying. And the way she talks to her mother. She symbolizes by planting the hibiscus that things are going to get better if she is not too stuck in the past.\n",
      "Precision: 0.6477333307266235, Recall: 0.6441593170166016, F1: 0.6459413766860962\n",
      "-----\n"
     ]
    }
   ],
   "source": [
    "from bert_score import score\n",
    "import pandas as pd\n",
    "\n",
    "# Đọc dữ liệu từ các tệp CSV\n",
    "df_references = pd.read_csv('/Users/nobitad/Workspace/MyProject/Seminar/Datasets/sampled_df.csv')\n",
    "df_candidates = pd.read_csv('/Users/nobitad/Workspace/MyProject/Seminar/Datasets/testing_set/concatenated_file.csv')\n",
    "\n",
    "# Đảm bảo số lượng mẫu trong cả dữ liệu tham chiếu và ứng viên là bằng nhau\n",
    "min_samples = min(len(df_references), len(df_candidates))\n",
    "df_references = df_references.sample(n=min_samples, random_state=42)\n",
    "df_candidates = df_candidates.sample(n=min_samples, random_state=42)\n",
    "\n",
    "# Chia dữ liệu thành các batch nhỏ hơn\n",
    "batch_size = 10\n",
    "num_batches = min_samples // batch_size\n",
    "\n",
    "all_P, all_R, all_F1 = [], [], []\n",
    "results = []\n",
    "\n",
    "for i in range(num_batches):\n",
    "    batch_references = df_references.iloc[i*batch_size:(i+1)*batch_size]['essay'].values.tolist()\n",
    "    batch_candidates = df_candidates.iloc[i*batch_size:(i+1)*batch_size]['essay'].values.tolist()\n",
    "\n",
    "    P, R, F1 = score(batch_candidates, batch_references, lang=\"vi\", verbose=True)\n",
    "    all_P.append(P.mean().item())\n",
    "    all_R.append(R.mean().item())\n",
    "    all_F1.append(F1.mean().item())\n",
    "\n",
    "    # Lưu trữ điểm số và các cặp văn bản\n",
    "    for j in range(len(batch_candidates)):\n",
    "        results.append({\n",
    "            'batch_index': i,\n",
    "            'candidate': batch_candidates[j],\n",
    "            'reference': batch_references[j],\n",
    "            'precision': P[j].item(),\n",
    "            'recall': R[j].item(),\n",
    "            'f1': F1[j].item()\n",
    "        })\n",
    "\n",
    "# Tính điểm trung bình cho toàn bộ tập dữ liệu\n",
    "avg_P = sum(all_P) / num_batches\n",
    "avg_R = sum(all_R) / num_batches\n",
    "avg_F1 = sum(all_F1) / num_batches\n",
    "\n",
    "print(f\"Precision: {avg_P}, Recall: {avg_R}, F1: {avg_F1}\")\n",
    "\n",
    "# Tìm batch có điểm F1 trung bình cao nhất\n",
    "max_f1_batch_index = all_F1.index(max(all_F1))\n",
    "print(f\"Batch có điểm F1 trung bình cao nhất là batch {max_f1_batch_index} với điểm F1 trung bình là {max(all_F1)}\")\n",
    "\n",
    "# In ra các cặp văn bản trong batch có điểm F1 trung bình cao nhất\n",
    "optimal_batch_pairs = [res for res in results if res['batch_index'] == max_f1_batch_index]\n",
    "\n",
    "for pair in optimal_batch_pairs:\n",
    "    print(f\"Candidate: {pair['candidate']}\")\n",
    "    print(f\"Reference: {pair['reference']}\")\n",
    "    print(f\"Precision: {pair['precision']}, Recall: {pair['recall']}, F1: {pair['f1']}\")\n",
    "    print(\"-----\")\n"
   ]
  },
  {
   "cell_type": "code",
   "execution_count": 13,
   "metadata": {},
   "outputs": [
    {
     "name": "stdout",
     "output_type": "stream",
     "text": [
      "calculating scores...\n",
      "computing bert embedding.\n"
     ]
    },
    {
     "data": {
      "application/vnd.jupyter.widget-view+json": {
       "model_id": "343e6cab44054c00898823caa76e57ed",
       "version_major": 2,
       "version_minor": 0
      },
      "text/plain": [
       "  0%|          | 0/1 [00:00<?, ?it/s]"
      ]
     },
     "metadata": {},
     "output_type": "display_data"
    },
    {
     "name": "stdout",
     "output_type": "stream",
     "text": [
      "computing greedy matching.\n"
     ]
    },
    {
     "data": {
      "application/vnd.jupyter.widget-view+json": {
       "model_id": "4136094c8da6440ebc27c783764584c7",
       "version_major": 2,
       "version_minor": 0
      },
      "text/plain": [
       "  0%|          | 0/1 [00:00<?, ?it/s]"
      ]
     },
     "metadata": {},
     "output_type": "display_data"
    },
    {
     "name": "stdout",
     "output_type": "stream",
     "text": [
      "done in 22.33 seconds, 0.45 sentences/sec\n",
      "calculating scores...\n",
      "computing bert embedding.\n"
     ]
    },
    {
     "data": {
      "application/vnd.jupyter.widget-view+json": {
       "model_id": "b0d53c05128e4a6fa761327066bfc31d",
       "version_major": 2,
       "version_minor": 0
      },
      "text/plain": [
       "  0%|          | 0/1 [00:00<?, ?it/s]"
      ]
     },
     "metadata": {},
     "output_type": "display_data"
    },
    {
     "name": "stdout",
     "output_type": "stream",
     "text": [
      "computing greedy matching.\n"
     ]
    },
    {
     "data": {
      "application/vnd.jupyter.widget-view+json": {
       "model_id": "b7ca42a2b04448b69f99a990737d5b17",
       "version_major": 2,
       "version_minor": 0
      },
      "text/plain": [
       "  0%|          | 0/1 [00:00<?, ?it/s]"
      ]
     },
     "metadata": {},
     "output_type": "display_data"
    },
    {
     "name": "stdout",
     "output_type": "stream",
     "text": [
      "done in 20.69 seconds, 0.48 sentences/sec\n",
      "calculating scores...\n",
      "computing bert embedding.\n"
     ]
    },
    {
     "data": {
      "application/vnd.jupyter.widget-view+json": {
       "model_id": "5500c166387f4480add5a17d85e7b195",
       "version_major": 2,
       "version_minor": 0
      },
      "text/plain": [
       "  0%|          | 0/1 [00:00<?, ?it/s]"
      ]
     },
     "metadata": {},
     "output_type": "display_data"
    },
    {
     "name": "stdout",
     "output_type": "stream",
     "text": [
      "computing greedy matching.\n"
     ]
    },
    {
     "data": {
      "application/vnd.jupyter.widget-view+json": {
       "model_id": "a6bc76556db7480ba2b6f72ce3ee256a",
       "version_major": 2,
       "version_minor": 0
      },
      "text/plain": [
       "  0%|          | 0/1 [00:00<?, ?it/s]"
      ]
     },
     "metadata": {},
     "output_type": "display_data"
    },
    {
     "name": "stdout",
     "output_type": "stream",
     "text": [
      "done in 19.11 seconds, 0.52 sentences/sec\n",
      "calculating scores...\n",
      "computing bert embedding.\n"
     ]
    },
    {
     "data": {
      "application/vnd.jupyter.widget-view+json": {
       "model_id": "c6835dd01a84430f800cab12a1dccb10",
       "version_major": 2,
       "version_minor": 0
      },
      "text/plain": [
       "  0%|          | 0/1 [00:00<?, ?it/s]"
      ]
     },
     "metadata": {},
     "output_type": "display_data"
    },
    {
     "name": "stdout",
     "output_type": "stream",
     "text": [
      "computing greedy matching.\n"
     ]
    },
    {
     "data": {
      "application/vnd.jupyter.widget-view+json": {
       "model_id": "43009cc8de3a447db846eba0f88ae8fc",
       "version_major": 2,
       "version_minor": 0
      },
      "text/plain": [
       "  0%|          | 0/1 [00:00<?, ?it/s]"
      ]
     },
     "metadata": {},
     "output_type": "display_data"
    },
    {
     "name": "stdout",
     "output_type": "stream",
     "text": [
      "done in 18.05 seconds, 0.55 sentences/sec\n",
      "calculating scores...\n",
      "computing bert embedding.\n"
     ]
    },
    {
     "data": {
      "application/vnd.jupyter.widget-view+json": {
       "model_id": "7a5f7a483db34924b3e78c97e0d6b597",
       "version_major": 2,
       "version_minor": 0
      },
      "text/plain": [
       "  0%|          | 0/1 [00:00<?, ?it/s]"
      ]
     },
     "metadata": {},
     "output_type": "display_data"
    },
    {
     "name": "stdout",
     "output_type": "stream",
     "text": [
      "computing greedy matching.\n"
     ]
    },
    {
     "data": {
      "application/vnd.jupyter.widget-view+json": {
       "model_id": "5599b233494e4765a2db215c16f83037",
       "version_major": 2,
       "version_minor": 0
      },
      "text/plain": [
       "  0%|          | 0/1 [00:00<?, ?it/s]"
      ]
     },
     "metadata": {},
     "output_type": "display_data"
    },
    {
     "name": "stdout",
     "output_type": "stream",
     "text": [
      "done in 20.17 seconds, 0.50 sentences/sec\n",
      "calculating scores...\n",
      "computing bert embedding.\n"
     ]
    },
    {
     "data": {
      "application/vnd.jupyter.widget-view+json": {
       "model_id": "5ce97899425b4326a4ab9345488ea004",
       "version_major": 2,
       "version_minor": 0
      },
      "text/plain": [
       "  0%|          | 0/1 [00:00<?, ?it/s]"
      ]
     },
     "metadata": {},
     "output_type": "display_data"
    },
    {
     "name": "stdout",
     "output_type": "stream",
     "text": [
      "computing greedy matching.\n"
     ]
    },
    {
     "data": {
      "application/vnd.jupyter.widget-view+json": {
       "model_id": "1f5826d7ff2a425d856b13275aa0e000",
       "version_major": 2,
       "version_minor": 0
      },
      "text/plain": [
       "  0%|          | 0/1 [00:00<?, ?it/s]"
      ]
     },
     "metadata": {},
     "output_type": "display_data"
    },
    {
     "name": "stdout",
     "output_type": "stream",
     "text": [
      "done in 19.90 seconds, 0.50 sentences/sec\n",
      "Precision: 0.6130358576774597, Recall: 0.5951871971289316, F1: 0.6034377912680308\n",
      "Candidate: Unforeseen Obstacles: Legal and Practical Hurdles\n",
      "Discuss the legal and practical obstacles that ultimately thwarted the use of the mooring mast for dirigibles. Explore the existing laws prohibiting low-flying airships over urban areas and the logistical difficulties of safely mooring dirigibles amidst New York City's skyscrapers.\n",
      "Reference: In the memoir \"Narciso Rodriguez\", tells us of how @CAPS1 grew up with his parents who which immigrated from Cuba, the mood created by the author is warm & comforting.For example, the mood is comforting because, @CAPS1 speaks of how, his parents created a traditional Cuban home, out of nothing but a one bedroom apartment. @CAPS1 descrbes his life being centered around the kitchen & his parent always provideing what they could the best for him.\"@CAPS1 also states \"I will always be grateful to my parents for their love & sacrafice\". Ive often told them that what they did was a much more courageous thing I could ever have done\".\n",
      "Precision: 0.606337308883667, Recall: 0.5894273519515991, F1: 0.5977627635002136\n",
      "-----\n",
      "Candidate: The Symbolism of Nature in \"Winter Hibiscus\"\n",
      "In \"Winter Hibiscus\" by Minfong Ho, nature serves as a powerful symbol of connection and resilience for Saeng. As she encounters familiar plants from her homeland while walking home, Saeng experiences a deep sense of nostalgia and longing for her past life in Vietnam. The closing paragraph, where Saeng vows to try again in the spring, reflects her determination to embrace her new surroundings while holding onto memories of home.\n",
      "Reference: Hi my name is @PERSON1 I have a couple topics that I would       like to talk to you about. I have been hearing alot of people          talking about libraries taking alot of there stuff off the shelves      well I think that that the libraries around the world have alot        of information inside of them and if we started taking                  information out of them then what would be the point in              having them. I think that everything in libraries are very               important and who is to know that everybody wants this to          happen. The one thing that I dont really think that libraries           need in them is movies because like pretty much every movie      has a book that goes with it or is the same thing pretty much.       And lets get on with the whole offensive thing I think everone      should be mature about all the negative stuff people can say         even if it is hurtfull. Though I think that the more people read      about what people are saying about them is the less that              they are goin to care because they are goin to just be so used       to it that they are not even goin to know what they are                talking about. If there was one thing that I could tel the world      it would be dont be offened by what people say to you.\n",
      "Precision: 0.5944226384162903, Recall: 0.5652987957000732, F1: 0.5794950723648071\n",
      "-----\n",
      "Candidate: The Dream of Dirigibles: A Vision for the Empire State Building\n",
      "Delve into the ambitious plan to incorporate a mooring mast atop the Empire State Building for docking dirigibles. Discuss the visionary idea of utilizing airships as a mode of transportation and how the architects intended to realize this dream through innovative design and engineering.\n",
      "Reference: Offensive literature, sexual content, disagreeable topics. Books all have those things to someone some where. It would be impossible to get rid of all of the books that offended everyone and still have books left. There are many reasons why censorship is pointless and wrong. Censorship only causes curiosity. Censoring books could take away from learning. The real world is not censored so books should not be either.     Consorship only causes curiosity. Young kids every day are told what to do and what not to do. Many people know that children are most likely to want to do exactly the opposite of what they are told to do. Being censored from things makes people want to rebel and learn the truth. No one likes to be told what they can and can not do. The same goes for being told what you can and can not read. No one wants the truth cut out of  their reading materials.      Censoring books could take away from learning. In school children are required to read many different books in their english classes. Some books, depending on the teacher, have what some would consider offensive language and topics. What some people do not understand is that reading those things are a part of life. Reading foul language would not be any more offensive than if someone was to use the same foul language in front of you in real life. In fact, the real life situation would seem to be more offensive. If we are censored from these things how will we learn that they exist.     The real world is not censored so books should not be either. You can not go walking down the street and expect a loud beep to randomly play over someone's foul banter everytime they curse. When someone says something offensive in the real world you have to learn to deal with it appropriately and maturely. We can not cut out peoples offensive banter in real life so why should we do it in our reading material. Has no one ever heard of freedom of speech? That ammendment was created for a reason, to let @CAPS1 speek their beliefs.     Everywhere we look today things are being censored and 'cleaned up' to make others happy who @MONTH1 be offended by whatever it is they are censoring. Sometimes it is appropriate for offensive language or topics to be written about. People need to be able to speek their minds and beliefs. But people also need to be able to have constructive critisism and be mature about offensive writing. Everyone will be offended in one way or another some time in their life by something they will read or already have read. It is just life\n",
      "Precision: 0.600295901298523, Recall: 0.5543611645698547, F1: 0.5764148235321045\n",
      "-----\n",
      "Candidate: The Power of Laughter in Friendship\n",
      "Explore a personal anecdote where shared laughter strengthened a friendship. Reflect on a memorable moment when a joke or humorous situation brought you and a friend closer together, emphasizing how laughter can bridge gaps and create lasting bonds.\n",
      "Reference: Patient is when you are tolerant and understanding. Many people @CAPS4t have patience, while others do. I am sort of in the middle, but heres a time I had to be very patient. It was a bright and sunny @DATE2 @TIME1. The sun was shining like theres no tomorrow. To bad I couldnt play outside. I was to busy kicking back, eating popcorn, and watching a big event. It could give me bragging rights I figure I need some hope and patience.. @CAPS1 ,my brother yelled all happy and in my face.  @CAPS2 @CAPS2 loser , lions are winning and steelers are loosing he added. @CAPS4t get to happy , theres still plenty of time left. I replied, with a worried look on my face. I was afraid that I d loose, but taking deep brother in and out, I was  very patient. The clock winding down. It was the being of the @DATE1. The score was @NUM1 to @NUM2, lions lead. I was still a bit worried, but I never lost hope. As the game was coming to an end, the @DATE1 back I for the steepless made an awsorde pass and @CAPS1 I screamed dancing and jumping around. I told my brother, who is the loser now, huh? wow all it took was patient, and hope I told myself. Patient can mean a lot. Not only did I learn that me and my brother can get a little  competive but if you  just wait and tolerate whats happening around you, youll end up getting rewarded!.\n",
      "Precision: 0.6027518510818481, Recall: 0.5356681942939758, F1: 0.5672334432601929\n",
      "-----\n",
      "Candidate: Dear Editor,\n",
      "\n",
      "As the use of computers becomes increasingly widespread, it is essential to address the potential health concerns associated with prolonged screen time. While technology offers numerous benefits, we must also consider its impact on our physical and mental well-being.\n",
      "\n",
      "Extended periods of computer use can lead to various health issues, including eye strain, poor posture, and a sedentary lifestyle. These problems can have long-term consequences, such as chronic pain, obesity, and cardiovascular diseases. Additionally, excessive screen time can contribute to mental health issues, including anxiety and depression.\n",
      "\n",
      "To mitigate these risks, it is crucial to promote healthy computer habits. Encouraging regular breaks, maintaining proper posture, and incorporating physical activities into our daily routines can help reduce the negative impact of prolonged computer use. By adopting a proactive approach, we can enjoy the benefits of technology while safeguarding our health.\n",
      "\n",
      "Sincerely,\n",
      "[Your Name]\n",
      "Reference: Do you think that books, movies, music, etc., should be moved if they are found offensive? I can't choose @CAPS3 they are both understandable. Therefore, I well dicuss how i feel about it in this essay and what I have experience on this topic.     Well lets get started! I could go both ways with this. But first I well just discuss the way I disagree with removing offensive things. Material that is instersting to many people mght not be instersting to me. I mean everyone should be able to listen and read things that the loved and enjoy. And I could really careless what other people loved to read and listen to. Someday, we all might come to enjoy things that we wouldn't every think we would. It's just that simply. I mean I love romance and scary books, and someone else might dislike them both. Noone can tell anyone what they should like or dislike.          I agree in away too! When people make a big deal out of somethings it kind of gets on your nerves, like when your mom is telling you make sure room is clean all the time! I agree with this @CAPS3 something maybe to offensive to someone and doesn't want their children. One time I was in a library looking at this book that really seemed good to read. But then some lady told me that I shouldn't read it @CAPS3 it to much for me. But it was just right for me. @CAPS2 went up to the main desk and started complaining. I was like, 'Are you serious?' I didn't want to be rude so I told her calmly, '@CAPS1 are you so worried about what I am reading?' @CAPS2 replied, ' @CAPS3, the book is to reviling.' I showed her what the book was called, '@CAPS4 @CAPS5 @CAPS6'. We ended the agruement. I still checked out the book, @CAPS3 I knew I would love it, and I do! They should just put things aside, that they think well be offensive and let people ask for the things. So people won't make a big deal out of it. Just keep the peace and give everyone what they want.          Well I'm done now. Hope you understand both sides of the agruement. Just remember that if you agree or disagree.Or you like me, who can't choice or understands both sides. It's your decision and noone can make you change what you love and enjoy to read or listen to. But I can't pick aside @CAPS3 either way their both a understandable.\n",
      "Precision: 0.6137763261795044, Recall: 0.5666334629058838, F1: 0.5892634987831116\n",
      "-----\n",
      "Candidate: The Irony of Misguided Advice\n",
      "\n",
      "The setting in Joe Kurmaskie's essay serves as a backdrop for the irony of taking misguided advice, turning a seemingly straightforward journey into a perilous adventure. The initial setting at the reservoir campground outside of Lodi, California, provides a false sense of tranquility and ease. The early-summer evening and lively conversation with the old-timers create an ambiance of peace and relaxation.\n",
      "\n",
      "However, as the cyclist ventures deeper into the high deserts, the true nature of the setting reveals itself. The first \"town\" he encounters is a ghost town, reflecting the area's decline and isolation. This sets the stage for the cyclist's journey through a desolate environment where resources are scarce. The lack of reliable water sources, such as the brackish water from the rusted pump, exacerbates his dehydration and desperation.\n",
      "\n",
      "The high deserts of California, with their intense heat and rolling hills, further isolate the cyclist. The warning sign of \"ROUGH ROAD AHEAD: DO NOT EXCEED POSTED SPEED LIMIT\" serves as a stark reminder of the challenges ahead. The cyclist's slow pace of 12 mph highlights the difficulty of navigating this terrain, contrasting sharply with the posted speed limit of 55 mph.\n",
      "\n",
      "Encounters with tumbleweeds and a large snake add to the sense of danger and isolation. The abandoned Welch’s Grape Juice factory symbolizes the cyclist's dashed hopes and the irony of his situation. Despite the harsh reality of the setting, the cyclist's perseverance and eventual discovery of Gary and Wilber’s Fish Camp highlight the resilience required to navigate such an unforgiving environment.\n",
      "\n",
      "In conclusion, the setting in Joe Kurmaskie's \"Rough Road Ahead: Do Not Exceed Posted Speed Limit\" profoundly affects the cyclist, transforming his journey into a test of endurance, resilience, and survival. The deceptive tranquility of the reservoir campground contrasts sharply with the harsh realities of the high deserts, underscoring the importance of reliable navigation and the resilience required to overcome the challenges posed by an unforgiving environment.\n",
      "Reference: Dear @CAPS1, The effects computers hace on society is a mixture of positive use and negative use. Getting tired and lazy is a negative use of the computer. When you are on the computer. When you are on the computer for more than @NUM1 minutes ayou start to get lazy and not wanting to get up. That affects a lot of people @DATE1 because there are a lot of people working on their computer for there jobs and they have to use the computer. Kids are harder because they don't want to do something other than just sitting on the computer instead of when they come back from school because they are so tired, if we limit the time they use the computer it will be better for kids, grown ups, and your brain. When adults spend a lot of time on the computer due to there jobs or checking their email, a lot of times they don't interact with their family or other people because they are on the computer I can connect with this because @CAPS4 dad is always on the computer due to his office not talking to us or even seeing is. Sometimes I wish that the world should of never invented computers because I get so frustated with them, but a lot of times we do spend family time and its good to get away from your computers beside thats what makes the money. Emailing, chating, @CAPS3, aim, @CAPS2 are all echnology communication using these communcation is helpful if somebody can't text or doesn't have a phone you can always chat them on @CAPS3 or send them an email. Email & @CAPS3 are the only @NUM2 communications I @CAPS4 dad sends use a lot of emails to @CAPS4 soccer coach about how I am not going to be at a game or I am going to a game, and he always responds. It is very easy. @CAPS3 is a good way for kids to talk to one another because some might not have phones or you don't see them at all during the school day. It's a good way to communicate without @CAPS3 or email I don't know what would happen, but I knoe it would be bad. So you see how computers have positives or negatives getting lazy, not spending enough time with friends or family and talking to friends are all positive & negative conflicts of the computer.\n",
      "Precision: 0.6013413667678833, Recall: 0.593956470489502, F1: 0.5976260900497437\n",
      "-----\n",
      "Candidate: Overcoming Adversity with Laughter\n",
      "Narrate a story where laughter helped you overcome a personal challenge or setback. Reflect on a moment of levity that provided perspective and resilience during a difficult time, demonstrating how humor can be a powerful coping mechanism in the face of adversity.\n",
      "Reference:  A @CAPS1 @CAPS2 The @CAPS3 @CAPS4 was a warm @DATE1 @CAPS1, some of my friends and I had planned to spend a @CAPS1 @CAPS2 the @CAPS3. We had decided on walking around and looking @CAPS2 all the cool stores. Eventually we would all get lunch and go out to the park near the river right next to the @CAPS3. We all agreed that @CAPS4 was a great plan and we would all have a wonderful @CAPS1. To start off, we all met @CAPS2 the bus stop by the movies. @PERSON3, @PERSON4, @PERSON2, @CAPS5 and I were all there. We decided to go look inside @CAPS6 @CAPS7 first because they have all the crazy things we love. Inside the store, I found a dress that was to die for. @CAPS4 was small and grey with skulls all over @CAPS4. Unfortunately, @CAPS4 costed @MONEY1 that i did not have, so we left @CAPS6 @CAPS7. Next, we went to @NUM1 @CAPS10 to see what they had in store for us. @PERSON3 and I created a black teddy @PERSON1 with a studded leather jacket. We gave @CAPS4 an awsome top hat and named @CAPS4 @CAPS11 @PERSON1. We all thought @CAPS4 was pretty funny because teddy bears are supposed to be cute and this one was kind of scary. We paid @MONEY2 for @CAPS4 and continued on our little adventure. We all decided @CAPS4 was about lunch time so we went and got chineese food from @ORGANIZATION1, left the @CAPS3, and headed down to the park next to the river. Before we got to the park, we stopped to go see what @CAPS4 was like under the bridge. There were towers of rocks all over the place, so we decided to build one of our own. We stacked @CAPS4 up almost as tall as me before @CAPS4 toppled over, almost crushing @PERSON4 on the way down. We followed the little path away from the rock towers down to the river. @CAPS4 lead us to a little beach next to the water. There was a huge pillar separating the trees and bushes from the water. We decided to eat lunch here instead of going to the park. After eating lunch, we were all full of energy again. @CAPS5 started a pine cone war by tagging me in the back of the head with one. After a few minutes, all of us were involved. We used the giant pillar from the bridge as a shield but @CAPS4 didn't quite work. @PERSON4, who had a better aim than all of us, was hitting everyone left and right, so the rest of us teamed up on him. We all threw pine cones one after the other untill @PERSON4 had to start backing away. As he reached the edge of the shore, he tripped over a big rock and fell backwards into the shallow water. Instantly, we all busted out in a roar of laughter that continued on for a good couple of minutes before @CAPS5 finally decided on helping @PERSON4 out of the water. He was very unhappy about the situation while we were all quite pleased. Jesica had managed to get a vidio of the whole thing and when we played @CAPS4 back to @PERSON4 he couldn't help but laugh with us. After that, we went to the park. Immediately, we all ran for the slide. \"I wanna go first!\" screamed @PERSON3 as we all made @CAPS4 up the jungle jim to the slide. All of us pushed and shoved to get to the slide before I finally suggested going down the big, swirly slide all together. Everyone els thought @CAPS4 was a great idea so we attempted @CAPS4. @PERSON3 was first, as she wanted, I was second, followed by @PERSON2, @PERSON4, and then @CAPS5. We started off realy slow and progressed in speed as more of us piled onto the slide. We ended in a pile @CAPS2 the bottom, all laughing histarically. When we all came back to reality we realized @CAPS4 was time to head home so we all grabbed our things and headed for the bus stop. In the end, @CAPS4 had turned out to be an even better @CAPS1 than we had expected. The whole @CAPS1 was full of joy and laughter, whitch are a few of the key aspects of life. Without laughter, there would be no way to @ORGANIZATION1 when you are extremely happy or when you think something is funny. Happiness is one thing you need to live a fun, fulfilling life. I feel like the ability to laugh is one thing that makes a person fun to have around. Do you think you laugh often enough?\n",
      "Precision: 0.5910841822624207, Recall: 0.5037146210670471, F1: 0.5439131855964661\n",
      "-----\n",
      "Candidate: From Vision to Reality: The Rise and Fall of Dirigible Transportation\n",
      "Trace the evolution of dirigible transportation from a promising vision of the future to a failed endeavor overshadowed by the rise of airplanes. Explore how technological advancements and safety concerns contributed to the demise of dirigibles as a viable mode of travel.\n",
      "Reference: Do you think that certain materials should be removed off library's bookselfs if someone dislikes or does not agree with the topic or the plot? Do you believe that a book should be banned from any public library just because someone has a negative opinion about what the book is convincing readers?     I believe that every person has the choice to not read a book or magazine, or even watch a movie, if they find it offensive.     'All of us can think of a book that we hope none of our children or any other children have taken off the self. But if I have the right to remove that book from the self- that work I abhor- then you also have exactly the same right and so does everyone else. And then we have no book left on the self for any of us.' @CAPS1 quote from the arthur, Katherine Paterson, from my opinion, I believe that what she is saying is very true. Considering that everyone has a different opinion on many things, if everyone had a right to remove one book that they did not like or felt it was offensive from the self, there would not be a varity of books for people to choose from. I have sometimes gotten corious about what a friend was reading and asked them if they thought it was a good book. They either tell me it is a good novel or tell me it was horrible. Then I would read a few pages and I would think it was pretty good. So if they had the right to remove that book I would have never got the chance to read that book.     I do not believe that people should be able to remove books from shelfs just on their specific personality. Everyone has a different opinion or perspective about books. Everyone should get a large variety\n",
      "Precision: 0.5872107744216919, Recall: 0.5374314188957214, F1: 0.5612194538116455\n",
      "-----\n",
      "Candidate: Engineering Marvels: Designing the Mooring Mast\n",
      "Explore the intricate process of designing the mooring mast for the Empire State Building, considering the structural challenges and modifications required to integrate it seamlessly with the building's frame. Discuss the architectural vision behind the sleek, futuristic design of the mast.\n",
      "Reference: In the memoir \"Narciso Rodriguez\" from Home: The Blueprints of Our Lives, the mood created by the author in the memoir were happy and loveing. Happy is one of the moods because there are many happy memories in the memoir. \"... endless celebrations...\". Love is one of the moods because in a familey most of the time you love each other. \"I will always be grateful to my parent for their love and sacrifice.\" @CAPS1 on the memoir \"Narciso Rodriguez from Home: The @CAPS2 of Our Lives the moods created by the author in the memor were happy and loveing.\n",
      "Precision: 0.6014739274978638, Recall: 0.5738818645477295, F1: 0.5873540043830872\n",
      "-----\n",
      "Candidate: The Power of Memory in \"Winter Hibiscus\"\n",
      "In \"Winter Hibiscus\" by Minfong Ho, Saeng's encounter with familiar plants triggers memories of her past life in Vietnam, evoking a deep sense of nostalgia and longing. Despite the challenges of adjusting to her new environment in the United States, Saeng finds comfort in the familiarity of nature. The closing paragraph, where Saeng resolves to retake her driver's test, symbolizes her determination to overcome obstacles and embrace the future while holding onto cherished memories of home.\n",
      "Reference:  Hi my name is @CAPS1. I am just an ordinary girl with a story like every other girls. I'm writing this because this story means something to me and I would like to share @CAPS2. Honestly I depend on a good laugh during my day. Without laughter life would never be the same for me. Laughing has brought me to who I am today. Not only has @CAPS2 made me the person I am but @CAPS2 has brought me to all my friends and the people I love. For example I use laughter between me and my boyfriend @PERSON1.  @PERSON1 and I are just like any other couple. We have fun, do stuff together and we argue. The worst part is when we fight. just like everyone else we have hard time and we have good times. Our hard times all start when we wake up. When i wake up its still really dark outside. The smell of fresh @TIME1 air makes me feel refreshed. I always feel like the happiest girl in the world. A little while after i wake up i text @PERSON1 good @TIME1 and we usually, always talk through out the @TIME1. Some times he comes to see me or i just see him at school. When i see him i am happy and my toes curl. We will go for a walk and talk about everything and anything, just life. At this point he thinks its time to say something funny. So he does, he will make fun of how i look, what i am wearing and what i say. He doesn't find @CAPS2 hurtful but to me @CAPS2 is. Many times i might even say something mean back which doesn't help @CAPS2 just makes @CAPS2 worse.  Not long goes by, maybe a few seconds and we start to fight. He doesn't understand he has hurt me or he doesn't care. @PERSON1 tells me he has done nothing wrong. So i try to explain @CAPS2 and he doesn't listen. I just stop trying and if he realizes how he hurt me or what happened that bothered me that's fine but i am not going to fight anymore so i just stop explaining things. Enough has gone through my mind so i cry, and he gives me a dumbness look. This just makes everything worse so of course our fight breaks out and gets even worse. There is yelling and screaming with tears and mean, rotten words tossed all over the place its a mess. I usually storm of in the middle @CAPS2 cause i cant take anymore.  Finally time goes by and we haven't talked all day. We don't have anything to say to each other. Eventually someone gets the nerve to talk or say something to another. Still each of us on edge so i say something stupid or funny to lighten the mood. I will do anything to see a smile on his face, even if we have done each other wrong i still love him and cant stand for @CAPS2 to be like this anymore. Of course he smiles, just what i was looking for this makes me happy and laugh. @PERSON1 will than ask for a hug and so he hugs me even if i don't answer or if i say no, @CAPS2 doesn't matter to him. He apologizes and explains a couple things to me. I feel bad cause i hate the stress and the fight, so we work @CAPS2 out.  Now you can see if i didn't have laughter i might be depressed. Without laughter things would be harder and more complicated. But a good laugh or a simple joke can ease things and make them a lot better in life. I just want people to understand what a small laugh can do to your day. If @CAPS2 can change your day in such a big way than @CAPS2 can change your life in a major way. Things @MONTH1 come across as hard of rough. When i look back on my life and see what @CAPS2 has done to me and for me i realize i laughed at something each one of those days even though i was done and @CAPS2 brought me back up again.\n",
      "Precision: 0.6259793043136597, Recall: 0.5558217167854309, F1: 0.5888180732727051\n",
      "-----\n",
      "Candidate: Resilient and Hopeful\n",
      "\n",
      "The mood is one of resilience and hope. Rodriguez's parents' journey from Cuba to the United States is marked by significant challenges, yet their perseverance and hope for a better future stand out. Their willingness to endure hardships for the sake of their children's futures imbues the narrative with a sense of enduring hope. He reflects, \"The faith that this struggle would lead them and their children to better times drove them to endure these hard times,\" highlighting their resilient spirit.\n",
      "Reference: People all around the world think differently about music, books, and movies. Some think that books and music should have different kinds of ratings. Some people think that a song should be rated '@CAPS1' for mature when others could think that it shouldn't have any rating at all. Level rating stops young kids from buying something they are not mature enough for. Level ratings help the parents know what the kids are getting into.      If everyone could pull off a book or magazine, etc then there would be no books left. This is why we have levels of maturty on the material. Levels are letters, such as '@CAPS1' for mature. '@CAPS1' means that their will probably be some naked and sexual play into the video or song. With this on their it warns the parent so that if they do not want their child listening to it they can take it away. This leaves the parent with some control over what kids can watch and hear.     Stores won't let kids under the age of @NUM1 buy a rated @CAPS4 movie. Rated @CAPS4 stands for sexual act, language, and blood. It can stand for more things such as drugs. I am happy that my nine year old can't buy a rated @CAPS4 movie, but senice the law says a @NUM1 year old kid should be aloud to watch it, then its saying they should be mature enough to see or hear it.     We should be happy that we can have some control over what are children watch and listen too. We could try getting rid of all bad books, movies etc, but over time I'@CAPS1 sure more will be made. I am also sure that over time we will find a old copy of a book on a website. We cannot save our kids their whole life, so over time we have got to let them grow up. Our kids will decide if they are mature enough to watch something we would rather them not watch. We just have to raise them the best we can.\n",
      "Precision: 0.6196972131729126, Recall: 0.5758587121963501, F1: 0.59697425365448\n",
      "-----\n",
      "Candidate: The Harsh Realities of Nature\n",
      "\n",
      "In Joe Kurmaskie's essay, the setting's harsh realities profoundly affect the cyclist's journey, transforming it from a leisurely ride into a test of endurance and survival. The initial setting at the reservoir campground outside of Lodi, California, provides a false sense of tranquility and ease. However, as the cyclist ventures deeper into the high deserts, the true nature of the setting reveals itself.\n",
      "\n",
      "The cyclist's encounter with ghost towns and dilapidated structures underscores the desolation of the landscape. The lack of reliable water sources, such as the brackish water from the rusted pump, exacerbates his dehydration and desperation. The sun's relentless heat and the rolling hills replace the flat roads, further depleting his energy and morale.\n",
      "\n",
      "The warning sign of \"ROUGH ROAD AHEAD: DO NOT EXCEED POSTED SPEED LIMIT\" serves as a grim reminder of the challenges ahead. The cyclist's slow pace of 12 mph contrasts sharply with the posted speed limit of 55 mph, highlighting the difficulty of the journey. Encounters with tumbleweeds and a large snake add to the sense of danger and isolation.\n",
      "\n",
      "The abandoned Welch’s Grape Juice factory symbolizes the cyclist's dashed hopes and the irony of his situation. Despite the harsh reality of the setting, the cyclist's perseverance and eventual discovery of Gary and Wilber’s Fish Camp highlight the resilience required to navigate such an unforgiving environment.\n",
      "Reference: Dear local newspaper, @CAPS1 name is @PERSON1. I am @NUM1 years old and I go to a @ORGANIZATION1 in @LOCATION1 called @ORGANIZATION1. I am a really smart kid. In @CAPS1 opinion I benefit people using computers. You should keep reading @CAPS1 essay because I am going to tell you @NUM2 good reasons why I benefit people using computers. @CAPS1 first reason is they teach hand eye coordination, give people the ability to learn about far away places and people. For example, when I am always using the computer and when I'm doing research it always gives me the ability to learn about new places and people. Another example is when ever I watch @CAPS2.V on @CAPS3 @NUM3 it says that people learn about learn about faraway places and people on the internet @PERCENT1 of the time. @CAPS1 second reason is it allows people to talk online with other people for example when I am on the computer everyday I visit @CAPS1 facebook it always gives me a chance to talk to @CAPS1 friends and other people online. Another example is when I go on a computer and I search computers.org it says that it lets people @PERCENT2 of the time talk to others online. @CAPS1 @NUM4 reason is it allows students to get information when they're doing a project. For example when I always use the @ORGANIZATION1 computers it allows me to get information for example, about @LOCATION2 and @PERSON2 govina that is why I benefit people using computers. Another example is when ever I check out a magazine on computers it tells me that kids get alot of information when they're doing projects @PERCENT2 of the time. In conclusion, I benefit people using computers because they teach hand eye coordination, gives people the ability to learn about faraway places and people, it allows people to talk online with other people and it allows students to get information when they're doing projects. Those are the @NUM2 reasons why I benefit people using computers. So please the local newspaper please try to make this believable.\n",
      "Precision: 0.5750184059143066, Recall: 0.5569396615028381, F1: 0.5658347010612488\n",
      "-----\n",
      "Candidate: Battling the Elements: Overcoming Wind and Weather\n",
      "Explore the engineering challenges posed by the unpredictable winds at the top of the Empire State Building, which rendered dirigible docking impractical. Discuss the efforts made to mitigate these challenges and ensure the safety of both airship passengers and city residents.\n",
      "\n",
      "\n",
      "Reference:  Imagine this, flying past trees on a @CAPS1 @NUM1, four wheeler trying to keep up with everybody that's in front of you. That is how it was on new years eve.  We headed out from the house at about @NUM2 o'clock pm. When we left the house we headed for one of our friends house because we asked them earlier if they wanted to go. So when we left we had to leave fast so we were not on the the road for a long time. When we got to our friends house we hung out for a little while then asked them if they still wanted to go on a ride with us. They got all ready then at about @NUM2:45 we all headed out. All together now there was about @TIME1 of us about to head up on gillhooly on this ride.  When we finally got to the top of the mountain it was about @NUM4 o'clock pm. So we just hung out until @NUM5 o'clock. When I say hangout I mean we hit some mud holes and played around a little bit. By the time we were all muddy it was about @NUM4:55 pm. So we set up some fireworks to shoot off. Then about @TIME1 we shot all of them off. There was only about @TIME1 or @NUM7 of them. We started to head back home at about @NUM8 in the @TIME2 but one of our friends got stuck in some snow off the side of the road. We spent about a half hour digging him out before we finally headed back home. We arrived back at the house at @NUM9 in the @TIME2. We all got something to eat because we were all hungry then we watched a little @CAPS2 then headed to bed for the night.  \n",
      "Precision: 0.5874021053314209, Recall: 0.5204342007637024, F1: 0.5518941283226013\n",
      "-----\n",
      "Candidate: Legacy of Innovation: The Empire State Building's Transformation\n",
      "Reflect on the legacy of innovation embodied by the Empire State Building, despite the unrealized vision of dirigible docking. Discuss how the building adapted to new uses, such as hosting a soda fountain and tea garden, and remained an enduring symbol of human ingenuity and achievement.\n",
      "Reference: Dear local Newspaper, @CAPS1 people use computers but not every one agress that it benefits society. In my opinion, computers benefit society. There are @CAPS1 websites that can help you find information. Computers also allow people to work easily. A third reason is @CAPS1 companies are able to use them to gain business. If you are doing a project or need to look up information about something, the internet is one of the easiest ways to find that information. Google.com has so much information about almost any topic you can think of. If you are a teenager that doesn't have a drivers license and there is no one to take you to the library, computers allow you to be able to hand in the report/project on time. There are also websites that find you direction, to where you need to go. Mapquest.com is a quick and easy way to help you figure out which way to go. Computers allow people to easily. If your family member lives far away and you don't have enough money for the phone bill, computers help you to not loose touch. There are websites that can help you keep in contact with old friends that you don't see anymore. Computers are one of the only ways that people fighting in the wars can talk to their relatives. They are not able to have phones and sending a letter can take a long time. Companies use computers for easy access to the public. If you are a new company, you can put a little ad on the sicle of the screen on yahoo.com and millions of people will see it. They of so use computers to make flyers easily and quickly. Making a hundred flyers by hand can take hours. But on the computers all you have to do is make one and then you can print out one-hundred. Using computers helps society. you can easily find what you are looking for and you are able talk to anyone you want. Also, it is easy for companies to attract business. Those are only a few of the @CAPS1 reasons why computers are good for society.\n",
      "Precision: 0.5891536474227905, Recall: 0.5453656315803528, F1: 0.5664145946502686\n",
      "-----\n",
      "Candidate: The Journey of Adaptation in \"Winter Hibiscus\"\n",
      "In \"Winter Hibiscus\" by Minfong Ho, Saeng's journey of adaptation is depicted through her encounter with familiar plants from her childhood in Vietnam. As she walks home after failing her driver's test, Saeng finds solace in the presence of the hibiscus and other plants at the florist shop. The closing paragraph, where Saeng vows to try again in the spring, signifies her resilience and determination to embrace her new life in the United States.s\n",
      "Reference:  It was my first year of @CAPS1. high school and I was feeling pretty confident. I had great teachers and all the classes I wanted. My first day was going awesome! I had woken up on time, eaten a good breakfast, and I didn't even miss the school bus. My first few classes were fabulous and I was about to go to lunch. As the bell rang I hurried to the cafeteria to get a good spot in line. One of my close friends had called my name so I turned to wave and when I turned back I ran directly into @LOCATION1. We hit hard. I flew backwards dropping everything I was carrying. I tried to say I was sorry but all she did was glare at me and walk away. As I picked up my books I realized I didn't want anything to do with that girl and decided I'd just forget about what had just happened.   After lunch I had @CAPS2. I was extra excited for this class because the boy of my dreams, @PERSON1, was in it. On my way there I made a quick pit-stop to the ladies room to make sure I still looked decent and then headed to class. As I walked in the room the first thing I saw was @PERSON1's beautiful blond hair and his dazzling blue eye. Then I registered the whole scene. Guess who was twirling her hair and batting her eye lashes at my dream guy! You got it, @LOCATION1. From that moment on it was war! As the year progressed @LOCATION1 and I constantly strove to out do each other. We'd race each other to class to see who would get to sit behind @PERSON1. She always had to have the best hair. I would get a cute new hair cut and she would get high lights. I received a phone. So she went out and bought the latest and greatest phone with the built in music player. I remember getting to class early one day, so excited to show @PERSON1 this new game I'd learned. But of course when I walked in the room @LOCATION1 was already showing him the exact same game. There was one thing I always had over @LOCATION1, books. Both @PERSON1 and I loved books. We would sit and talk about the latest and greatest books for hours. This always made @LOCATION1 jealous. Our childish behavior went on like this for three or four months. One day at lunch I was just sitting, eating my food, and minding my own business. All of the sudden @LOCATION1 appeared out of nowhere and spit soda at my face. That did it. This was the last straw. I grabbed my milk carton and dumped it on her head. The cafeteria went silent for about a minute. @LOCATION1 and I stood there glaring at each other, rage searing from our eyes until some one broke the silence with a loud laugh. Soon everyone was laughing, including @LOCATION1 and I. We realized just how stupid we'd been acting and for the first time we were laughing together not at each other. We both apologized and helped each other get cleaned up.  Eventually we became really good friends. To this day we still laugh about or @NUM1 grade rivalry.\n",
      "Precision: 0.6079798936843872, Recall: 0.5656262040138245, F1: 0.5860387682914734\n",
      "-----\n",
      "Candidate: Title: Defending Liberty: The Case Against Censorship in Libraries\n",
      "\n",
      "In the ongoing debate surrounding censorship in libraries, it is crucial to uphold the principles of intellectual freedom and diversity of expression. As Katherine Paterson eloquently argues, the right to remove materials deemed offensive threatens the very foundation of a democratic society. Thus, I strongly oppose any form of censorship in libraries, including the removal of books, music, movies, or magazines.\n",
      "\n",
      "Censorship in libraries not only undermines the fundamental right to access information but also stifles the free exchange of ideas essential for a vibrant democracy. By selectively removing materials based on subjective interpretations of offensiveness, censors infringe upon individuals' autonomy to explore diverse perspectives and form their own opinions. This not only inhibits intellectual growth but also fosters a culture of intellectual conformity and stagnation.\n",
      "\n",
      "Moreover, censorship in libraries represents a form of intellectual paternalism that undermines individual autonomy and agency. By presuming to dictate what individuals can or cannot read, watch, or listen to, censors infringe upon the fundamental principle of freedom of choice. It is not the role of libraries or any other authority to shield individuals from ideas that some may find uncomfortable or objectionable.\n",
      "\n",
      "Furthermore, the notion of offensiveness is inherently subjective and varies greatly across individuals and communities. What one person deems offensive, another may find enlightening or thought-provoking. To impose one group's moral or cultural standards on an entire community not only stifles diversity of thought but also perpetuates a climate of intolerance and censorship.\n",
      "\n",
      "Critics of unrestricted access to library materials often argue that certain content may be harmful, particularly to young or impressionable minds. While this concern is valid, censorship is not the solution. Instead of banning or removing materials outright, we should focus on promoting media literacy and critical thinking skills. By equipping individuals with the tools to evaluate information critically, we empower them to make informed choices and navigate the complexities of the modern media landscape.\n",
      "\n",
      "In conclusion, censorship in libraries undermines the principles of intellectual freedom and diversity of thought that are essential for a free and democratic society. Instead of succumbing to the impulse to censor, we must reaffirm our commitment to the principles of free speech and open inquiry. Only by embracing diverse perspectives and ideas can we truly enrich our understanding of the world and foster a more inclusive and democratic society.\n",
      "Reference: The settings affect the cyclists for many reasons. One, if the setting is nice, the rider can concentrate on the scenery not on only pain they are having. also, if the setting isnt very nice, the rider would probably concentrate more on the pain than they would the scenery. another thing is if the setting is very hilly & the rider has to drive over it, it @MONTH1 not feel the greatest. The cyclist would get even more pain than before plus the cyclist could could get dehydrated faster, the setting really does affect the cyclist.\n",
      "Precision: 0.5733829736709595, Recall: 0.6095850467681885, F1: 0.5909300446510315\n",
      "-----\n",
      "Candidate: Facing Challenges: The Safety Concerns of Dirigible Docking\n",
      "Examine the safety concerns surrounding the docking of dirigibles at the Empire State Building, particularly the risk posed by the flammability of hydrogen-filled airships. Discuss how the tragic Hindenburg disaster underscored the potential dangers of such a venture.\n",
      "Reference: Does censorship solve any problems?  If one person wants to censor something in a library, there is bound to be another person on the other side of that arguement  trying to protect that work from be taken away.  As a free country, it is every individuals right to take in whatever form of literature or music that they find pleasing, and history has shown the world that censorship leads those in power down a dark road.  The shielding of offensive materials is only necessary and fair when the young, impressionable minds of the world's youth are at stake, but once a person is old enough to make informed decisions, it should be their perrogative to choose their own material.  Censorship is unacceptable on the grounds of personal rights and how it has affected history, but necessary when protecting the young.     It is a person's right to choose what kind of literature they would like to read.  If someone does not like a book and it becomes banned from a library, then everyone will want to have a book that they do not like banned.  For example take a hypothetical public library: a public library is an open, free place where men, women, and children of any background can come to learn and enjoy themselves with a good book, magazine, or music.  A great mental image of serenity and peace.  How does this picture appear to a bystander once books begin to disappear off of the shelves?  Suddenly right and left, books are disappearing as if by magic: a ceratin book is disapproved of by mothers, a religious group does not like the message this book sends, and this book makes people sad.  Before long, there are not very many books left in this hypothetical library other than books for toddlers.  With this system, everyone suffers.  Everyone should retain their right to read what they would like to.  It would all just be simpler if book were just not banned from libraries.     History has given the world many a cruel dictator.  Oftentimes, once he comes to power, he is not the most popular of governmental forms.  To keep his subjects underneath his rule, often he has to resort to taking away civil rights.  This could be a curfew, fake elections, or censorship.  If the ruler has the power of censorship, he or she can control what the public thinks, feels, and believes.  With this power over them, the people are weakened and often abused.  Now imagine that censorship occuring in a country that has civil rights.  People would not stand for it.  So why begin censorship in an area that promotes freedom?  There is absolutely no need for censorship to occur, and as history has shown, it certainly is not a good thing.     Censorship is unacceptable in all forms in a free country that promotes civil rights.  There is, however, one other element at play here: protection of youth and innocence.  Almost everyone can remember a time a child when they were young and innocent, free of worry and trouble.  That can disappear in a instant.  Children should not be exposed to things that are innappropriate for their age.  Nearly every movie nowadays has violent and risque, if not full-blown-adult, materials present in it.  The age of innocence is getting younger every generation, and children are becoming conditioned to this material to an extreme point.  A claim like this @MONTH1 sound hypotcritical coming from the mouth of one against censorship, but it is not 'censorship' when one is protecting the young.      Due to personal rights and what history has shown the world, censorship should never be tolerated unless on the grounds of protecting children.  It is each person's choice of what they would like to read and absorb, so their choices should not be infringed upon.  The world has seen on several occasions what censorship can do to people.  Also, children should be protected, and that is not censorship.  Censorship solves no problems, but it makes everyone unhappy.  Therefore, why censor\n",
      "Precision: 0.6190992593765259, Recall: 0.5588743090629578, F1: 0.5874472856521606\n",
      "-----\n",
      "Candidate: Title: Upholding Liberty: Rejecting Censorship in Libraries\n",
      "\n",
      "As Katherine Paterson eloquently argues, the imposition of censorship in libraries poses a serious threat to intellectual freedom and the democratic principles upon which our society is built. In today's rapidly evolving media landscape, the debate over what materials should be accessible in libraries has become increasingly contentious. However, I firmly believe that censorship has no place in libraries, as it undermines the principles of free expression and intellectual inquiry that are fundamental to a democratic society.\n",
      "\n",
      "At its core, censorship in libraries represents a form of intellectual repression that seeks to control what individuals can read, watch, or listen to. By selectively removing materials deemed offensive or objectionable, censors infringe upon the autonomy of individuals to explore diverse perspectives and form their own opinions. This not only undermines the principles of free speech but also stifles intellectual curiosity and growth.\n",
      "\n",
      "Moreover, censorship in libraries perpetuates a culture of fear and self-censorship, where individuals are hesitant to engage with controversial or challenging ideas for fear of reprisal. This not only hampers intellectual discourse but also limits the exchange of ideas essential for a vibrant and democratic society. As the philosopher John Stuart Mill famously argued, the free exchange of ideas is essential for the discovery of truth and the advancement of knowledge.\n",
      "\n",
      "Furthermore, the notion of offensiveness is inherently subjective and varies greatly across individuals and communities. What one person finds objectionable, another may find enlightening or transformative. To impose one group's moral or cultural standards on an entire community is not only authoritarian but also antithetical to the principles of pluralism and tolerance.\n",
      "\n",
      "Critics of unrestricted access to library materials often cite concerns about the potential harm certain content may cause, particularly to young or impressionable minds. While this concern is valid, censorship is not the solution. Instead of banning or removing materials outright, we should focus on promoting media literacy and critical thinking skills. By empowering individuals to critically evaluate information, we equip them to navigate a complex and often conflicting media landscape responsibly.\n",
      "\n",
      "In conclusion, censorship in libraries undermines the principles of intellectual freedom and diversity of thought that are essential for a free and democratic society. Instead of succumbing to the impulse to censor, we must reaffirm our commitment to the principles of free speech and open inquiry. Only by embracing diverse perspectives and ideas can we truly enrich our understanding of the world and foster a more inclusive and democratic society.\n",
      "Reference: My grandma was patient for @NUM1 months because she had a big check that kept haveiry mastakes with it like they spelled her last name wrong so it had to be called back and retiped everytime they retipped it they would make a mastakes five times in a row and it takes a long time to prosses and we needed to pay our pills so we wouldnt get kicked out. We also needed a new car and clothes. Our car ready to break down and our clothes we out grow. When my grandma finally got her check we went strait out and got a brand new car. and clothes. I think my grandma was pretty patient after they had to re do it over five time I know it wouldnt be able to be that patient without loseing  it.\n",
      "Precision: 0.5582844018936157, Recall: 0.5986538529396057, F1: 0.5777647495269775\n",
      "-----\n",
      "Candidate: Finding Home Through Nature: A Reflection on \"Winter Hibiscus\"\n",
      "The closing paragraph of \"Winter Hibiscus\" by Minfong Ho encapsulates Saeng's journey of adaptation and resilience in her new environment. Through her encounter with familiar plants from her childhood in Vietnam, Saeng reconnects with her roots and finds solace amidst the unfamiliarity of her new home in the United States. The hibiscus, dok Malik, and Madagascar periwinkle serve as tangible reminders of her past, evoking memories of her grandmother and the warmth of home.\n",
      "Reference: The features of the setting affect the cyclist in a few ways. first of these is the blazing heat. He is basically in a desert and he is running low on water. As he starts to run out of water he starts conserving it which is dehydrating him so he is becoming weaker, I would conserve my water and go inward for an hour or so- a test of my inner spirit. Next up is the rough terrain. When you hit rough terrain on a bike it can get hard to keep going and the cyclist was already short on water a large highway sign jumped out at me. I read: rough road ahad: Do not exceed posted speed limit sometimes life can be so cruel. Finally is the structure First there was the Ghost town with the battery acid tasting water. Also there was the Welchs grape Juice factory and bottling plant which were both probably dimeriling. A sandblusted picture of a young boy pouring a refreshing glass of juice into his mouth could still be seen. I hung my head. As you can see the features of the settings generily affected the cyclist.\n",
      "Precision: 0.6037498116493225, Recall: 0.5865171551704407, F1: 0.5950087308883667\n",
      "-----\n",
      "Candidate: The Impact of Isolation on Resilience\n",
      "\n",
      "The setting in Joe Kurmaskie's essay profoundly impacts the cyclist's resilience, testing his limits in an environment of isolation and desolation. The journey begins with a deceptive sense of peace at the reservoir campground outside of Lodi, California. The early-summer evening and lively conversation with the old-timers create a false sense of security.\n",
      "\n",
      "As the cyclist follows the old-timers' advice, he quickly finds himself in a barren, unforgiving landscape. The first \"town\" he encounters is a ghost town, reflecting the area's decline and isolation. This sets the stage for the cyclist's journey through a desolate environment where resources are scarce.\n",
      "\n",
      "The lack of water sources, such as the brackish water from the rusted pump, exacerbates his dehydration and desperation. The high deserts of California, with their intense heat and rolling hills, further isolate the cyclist. The warning sign of \"ROUGH ROAD AHEAD: DO NOT EXCEED POSTED SPEED LIMIT\" serves as a stark reminder of the challenges ahead. The cyclist's slow pace of 12 mph highlights the difficulty of navigating this terrain, contrasting sharply with the posted speed limit of 55 mph.\n",
      "\n",
      "Encounters with tumbleweeds and a large snake add to the sense of danger and isolation. The abandoned Welch’s Grape Juice factory symbolizes the cyclist's dashed hopes and the irony of his situation. Despite the harsh reality of the setting, the cyclist's perseverance and eventual discovery of Gary and Wilber’s Fish Camp highlight the resilience required to navigate such an unforgiving environment.\n",
      "Reference: Laughter is important in my life for many reasons. With out laughter my life wouldn't be as wonderful as it is right now. I have many people in my life that make laughter the best way to brighten up my day, like my friends, family, and boyfriend. I have many stories in which laughter was a part of my life, but I'm going to tell you a story about how my boyfriend used laughter to make me feel better and not think about my stomach ache.    It all happened on a @DATE1 @TIME1 @CAPS1 I was heading home from my boyfriends house. We were sitting on the max and my stomach started to hurt. I told my boyfriend about it and he told me that it's probably because I haven't ate anything. I was worried because it was going to be a long trip home. On our trip to my house my boyfriend was trying to distract me so I wouldn't worrying so much about my stomach ache. He started talking to me and telling me how my day was at school and I told him that my day was okay, not bad.     We started talking for awhile, up until my boyfriend took off his hat and said ''from flat to volume!'' @CAPS1 my boyfriend took off his hat and said that I bursted out laughing! I was laughing so hard that instead of my stomach hurting because I didn't eat all day, it was hurting because of how hard and how much I was laughing. I was laughing so hard because my boyfriends hair was all messed up. His hair looked so funny! As I was trying not to laugh I asked my boyfriend why his hair was like that? He started telling me that @CAPS1 he was taking a shower he had grabbed a shampoo bottle that said from flat to volume and he didn't know that his hair was going to have so much volume.The whole way home I couldn't stop laughing about my boyfriends hair. I thought it was so funny, that I had forgotten about my stomach ache.     Till this day I still laugh about my boyfriends hair and how it looked that day. We now have an inside joke and every time I remember that day I tell him ''from flat to volume'' and we both just start laughing.Now i know thatlaughter is the best medicine for me @CAPS1 I have a stomach ache. Laughter will always be a part of me and my life no matter what!\n",
      "Precision: 0.593258261680603, Recall: 0.5805583000183105, F1: 0.5868395566940308\n",
      "-----\n",
      "Candidate: Laughter Across Generations: Connecting Through Humor\n",
      "Reflect on an intergenerational experience where laughter bridged the gap between different age groups. Whether it was swapping jokes with grandparents or sharing funny stories with grandchildren, illustrate how humor can foster connections and mutual understanding across generations.\n",
      "Reference: Picture this: you come home one day after work and before you even enter the house, you hear music blaring from your child's room. As you step closer, you begin to hear the lyrics that go with the banging bass and you realize that that isn't just any music, it's completely unedited, expicit versions of vulgar songs. Now, who would want their child listening to songs that make it seem like drinking, doing drugs, and other various risky activities are okay? I know I sure wouldn't.     Music isn't the only source of offensive material in today's society. It can be found nearly anywhere. In books, magazines, @CAPS1 shows, movies, on the @CAPS2, you name it. All of these are easily accessible by children of all ages. That is why there should be censorship of certain materials, to a certain degree. By this, I mean that if there is a dirty book in a public library, it should only be able to be rented by people who are of a certain age. Just because it's bad doesn't mean that it has to completely vanish from the face of the world. There should just be a limitation on who can view it. That applies to everything that could contain offensive material.      Kids are kids. There are certain things that should be absolutely off limits to them--such as explicit movies, books, music, etc.--as they do not need to know about drugs, sex, or alcohol at such a young age. Censorship should definitely be in effect in places like public libraries where young children are bound to be. But, as mentioned earlier, censorship should only be to a certain degree. Keeping childrens' minds clean for as long as possible would be a very positive thing to do for both them and our society in general\n",
      "Precision: 0.606774628162384, Recall: 0.5549238920211792, F1: 0.5796920657157898\n",
      "-----\n",
      "Candidate: Hope and Renewal in \"Winter Hibiscus\"\n",
      "In \"Winter Hibiscus\" by Minfong Ho, Saeng's vow to retake her driver's test in the spring symbolizes a message of hope and renewal. Despite the difficulties she faces in adapting to her new life in the United States, Saeng remains determined to persevere and overcome obstacles. The closing paragraph serves as a reminder of the resilience of the human spirit and the possibility of growth and transformation, even in the face of adversity.\n",
      "Reference: Dear @CAPS1 of my local news paper: @CAPS2 you believe this garbage that the so called expert are saying about computers? I sure hope you don't! They are saying that computers are health risks because to many people are on them and not exercising, well if you risk me the users should know when to stop. And well when it comes to interacting with family the parents should set limits. Also computers are very convient, if you need information on a topic right away. So there far I think computers are not the one's at, in this perdevment. Exercising is somthing a perosn should have the ambition to do. @MONTH1 people don't have this they spend their day on the computer. they claim its not their faut. the computer is a you to play it. I read just last week that someone actolly told her press they it is not fault her over weight. Thats ! So the only person at full. for not getting the the gamer. As us family interaction goes, all up to the parents the use the parents are in control over they child and if they are that their kid doesn't spend enough time. The operator should have the will power to know when enough is enough and lay down the and set limits!. If we didn't have computers at home it would be a. Kids relie on computer them quick, accurate information. With not them the parents should their child to and from the library, and the time. And lets not forget the internet easy. So in conclusion computers are the way to go they are not the cause or however luck of exrcising at fault. Its not the computers fault familys. And they are just so convenit so clearly computer are good to have! I truly hope by the letter you agree with my oppinion.\n",
      "Precision: 0.5946951508522034, Recall: 0.5535097122192383, F1: 0.5733638405799866\n",
      "-----\n",
      "Candidate: The Empire's Beacon: Illuminating the Skies\n",
      "Highlight the unique feature of the illuminated mooring mast and its significance as a beacon in the New York City skyline. Discuss how the lighting design contributed to the building's iconic status and served as a symbol of progress and innovation.\n",
      "Reference: I think people should not spend so much time on the computer. This are three reason a think that. My frist reason is if people stay on the computer for a long amount of time it can mess up the way you see. My second reason itis that you could be spending time with family and friends. My last reason is that people that sit all day on a computer gain more weight. First I think people should not be staying on the computer all day. Because it can mess up the way you see this can happen because from u looking at a computer screen all day or eyes can get mess up. I think u should never stay on a computer for no more than a hour. And sometimes u no u been on it for to long when ur eyes started to hurt. My second reason u should not stay on the computer for a long time is because when u are secting there. Doing wat you are doing. You can be messing out on fun thing that u can be doing with ur family our with friends. But some people would just like to sect all day end look at a computer screen and some people start not to like going out our even beeging a social person. My last reason people should not be on the computer for a long time because some people will just seat there and eat food all day. And this will make them get more weight. And this can make there life wader because now they are on heelthy they are just seating down all day anyways. And they should be going outside end running around. This are my three reason I think people should not stay on the computer all day. One it mess up they way u see, second you are messing out on fun thing u can do with our family, end last people are graning more weight when seat on the computer all day.\n",
      "Precision: 0.5592498779296875, Recall: 0.50465989112854, F1: 0.5305543541908264\n",
      "-----\n",
      "Candidate: The Irony of the Setting\n",
      "\n",
      "The setting in Joe Kurmaskie's essay plays a crucial role in shaping the cyclist's journey, filled with irony and unexpected challenges. The initial setting at the reservoir campground outside of Lodi, California, provides a false sense of tranquility and ease. However, as the cyclist ventures deeper into the high deserts, the true nature of the setting reveals itself.\n",
      "\n",
      "The cyclist's encounter with ghost towns and dilapidated structures underscores the desolation of the landscape. The lack of reliable water sources, such as the brackish water from the rusted pump, exacerbates his dehydration and desperation. The sun's relentless heat and the rolling hills replace the flat roads, further depleting his energy and morale.\n",
      "\n",
      "The warning sign of \"ROUGH ROAD AHEAD: DO NOT EXCEED POSTED SPEED LIMIT\" serves as a grim reminder of the challenges ahead. The cyclist's slow pace of 12 mph contrasts sharply with the posted speed limit of 55 mph, highlighting the difficulty of the journey. Encounters with tumbleweeds and a large snake add to the sense of danger and isolation.\n",
      "\n",
      "The abandoned Welch’s Grape Juice factory symbolizes the cyclist's dashed hopes and the irony of his situation. Despite the harsh reality of the setting, the cyclist's perseverance and eventual discovery of Gary and Wilber’s Fish Camp highlight the resilience required to navigate such an unforgiving environment.\n",
      "Reference: Patience is a hard thing to have, but there is rewards to having it. I had a teacher that no one could remember to gave us our report card in band class. So after a few weeks I made a bet with him that if he didnt bring us our report card the next day he owed me a bag of raffles. Weeks went by, then months went by, until finally. It was the end of the year. And he still didnt have them. Once schools started up again and we were half way through the school year and mey band teacher walks in and gives me two packs of swittles. I then remembered the deal we had made and said?? yes are only suppose to give me and  he told me  the second one is ? being to patient.\n",
      "Precision: 0.5755333304405212, Recall: 0.6060322523117065, F1: 0.5903891921043396\n",
      "-----\n",
      "Candidate: Dear Editor,\n",
      "\n",
      "The debate over the impact of computers on society is multifaceted, with valid arguments on both sides. As an advocate for balanced technology use, I believe that computers can be beneficial if used responsibly.\n",
      "\n",
      "On one hand, computers have revolutionized the way we learn and communicate. They provide access to a wealth of knowledge and enable us to connect with people worldwide. These advancements have the potential to broaden our horizons and foster global understanding.\n",
      "\n",
      "However, it is equally important to acknowledge the risks associated with excessive computer use. Prolonged screen time can lead to health issues and social isolation. Therefore, it is essential to strike a balance between digital engagement and real-world experiences.\n",
      "\n",
      "Promoting responsible computer use involves setting time limits, encouraging physical activities, and prioritizing face-to-face interactions with family and friends. By adopting a balanced approach, we can harness the benefits of technology while minimizing its drawbacks.\n",
      "\n",
      "Sincerely,\n",
      "[Your Name]\n",
      "Reference: One day my mom came home from work. She came in and said @CAPS1, do you want to go shopping for your clothes @CAPS2 or later? I chose @CAPS2. So my mom changed her clothes and we were off to the store. It was around @NUM1 so it was rush hour. It seemed like it was taking forever and I was getting mad. Then my mom said be patient and it will be over soon. This is a time when I was patient. After ten minutes, things started to clear up. It still took a while but it was getting better. In less than twenty minutes we were pulling up in the @LOCATION1 parking lot. There was a few cars in the lot but it didnt seem like much. When we got into the store thats when I really was mad. The lines for you to purchase your items lead all the way to the back of the store. Then my mom said @CAPS2 look. The lines are long as you can see. Are you sure you can handle this and have patients? Ill try. I said. After we got in the store we were looking for my clothes, we were looking at the long lines also, to see if they went down some. We got my clothes, then got in line. We spent about an hour worth of time in the line and it made me mad. Not only did it make me mad, it made me hurgy because I skipped lunch. When we got out of the store, we were happy and hungry. We left the store and went to @CAPS3.Donalds. When we were down the street from @ORGANIZATION1, there was this traphic line we got closer and closer to @ORGANIZATION1 and then realized that line was the @ORGANIZATION1 line. We got in the lot and I knew for sure that I was going to have more patients. So we waited and the line went really fast. We got up to the spoorker and my mom ordered a fish sandwich for her and a chicken sandwich for me. We got to the next window and they gave us our food. When we got our food, the lady said @CAPS4 you for your patients. Then she asked us would we like a free frie of any size for our wait. We told her yes and we will take a large frie. My mom turn to me and said Do you see what happens if you be patient? I said yeah and patients is a good thing to have. That was a time when I was patient.\n",
      "Precision: 0.6027020215988159, Recall: 0.5810621380805969, F1: 0.5916842818260193\n",
      "-----\n",
      "Candidate: Laughter in the Workplace: Fostering Team Spirit\n",
      "Describe a workplace anecdote where laughter contributed to a positive team dynamic. Whether it was a lighthearted joke during a stressful meeting or a playful prank among colleagues, highlight how humor can improve morale and strengthen professional relationships.\n",
      "Reference: Libraies should not be able to remove books, movies, and  magizines off the shelves just because some kids might be offended. If the town libraries and school libraries took out the cool movies, magizines, and books that most kids love to read and watch then the kids that like those books , movies, and magizines would not return to the library any more.           For example, I like to listen to hard rock, heavy metal, and rap. But, the people that go to church just like to listen to church music. If your with your friend one night because he invited you to come to church with him and you pull in the parking lot listening to your rap music some people @MONTH1 not like it. This doesn't mean that they should take the things people don't like off the shelves in order to satisfy them.          Libraries should have a policy stating that if a child should check out a book or magizine or rent a movie, that they should have the childs parents sign and return a permission slip stating that their child has their permission to rent this book, magizine, or movie. Libraries should have an age limint to check out books and magizines. If kids would want to rent a movie then they would have to have a permission slip signed by their parents and returned. This permission slip will and can be used for all movies.           Libraries should not remove their books, magizines, or movies. They should make a policy to allow older kids to check them out. So, library material should be a choice\n",
      "Precision: 0.6032564043998718, Recall: 0.5585477352142334, F1: 0.5800418257713318\n",
      "-----\n",
      "Candidate: Courageous and Determined\n",
      "\n",
      "The mood is one of courage and determination. Rodriguez's parents' decision to leave Cuba and start anew in the United States required immense bravery and resolve. Their willingness to face cultural and financial challenges head-on is a testament to their determination. He admires their strength, stating, \"What they did was a much more courageous thing than I could have ever done,\" highlighting their courageous spirit.\n",
      "Reference:                                        @LOCATION2 @LOCATION2 @CAPS1 wants to travel, and while traveling is fun, it is more exciting to go with people you love, but sometimes you go somewhere with people you @MONTH1 not know very well. Every two years or so, the choir at my @ORGANIZATION1 has an opportunity to go on a trip together. During these trips, the students are able to work with college professors, eat tons of junk food, get away from their parents, and just have a great time together. It's a experience that every @ORGANIZATION1 @CAPS2 dreams of. At the beginning of my @CAPS3 year of @ORGANIZATION1 @ORGANIZATION1, my choir director announced that we would have the opportunity to go to @LOCATION2. I was ecstatic to be going, but I'm an extremely introverted person and I knew that I didn't really have any friends in the choir. I also can't walk, and was scared I would be left behind in a store because I couldn't open the doors or they would go across a street corner that didn't have a @CAPS5 dip down into the street, and thousands of other things that were racing through my mind. I was so terrified that that I would be separated from @PERSON3, my one friend who was in choir, that I almost didn't go. I'm not really sure how, but my mother convinced me that everything would be alright, and I had nothing to fear. Once we arrived in @LOCATION2, we split up into groups to see who wanted to go to explore the @PERSON7 and who wanted to go up @ORGANIZATION2 street, one of the windiest roads in the world. My worst nightmare came true, I was separated from @LOCATION3. I tried to tell myself that nothing would go wrong and that the chaperons wouldn't leave me behind, but in the back of my mind I just kept coming to the same conclusion: I would be alone with a bunch of strangers in a city I knew nothing about. Somehow, I got on the bus that was slowly taking me away from @LOCATION3. One of the other girls, @PERSON4, came to sit by me, and attempted to start a conversation. That was one of the longest bus rides of my life. When we arrived at the bottom of @ORGANIZATION2 street we split yet again, one group was going to walk to the top of the steep hill and the other was going to ride in one of the old trolleys up to the top then walk down where the hill wasn't as steep. I was forced to go on the trolley because the hill was so steep part of the sidewalk contained steps, and since I can't walk, the only alternative was the trolly. Several of the other kids went with us and once again @PERSON4 was in my group. A couple hours later, after getting lost and turning on several wrong streets, we found the trolley station and bought our tickets. Luckily, I managed to avoid conversing with @PERSON4 this whole time, so the ride up the hill was enjoyable. Some of the local people smiled at us because we were so excited to be riding on the trolley. We saw houses, stores, and @LOCATION1 on our ride.  There were six people in our group at the time, two chaperons and four kids. Once we reached the top of the hill, two of the kids, @PERSON6 and @PERSON5, decided they really had to go to the bathroom, so one of the chaperons, @PERSON6, and @PERSON5 raced back down the hill to find a public restroom. This left me, alone, with @PERSON4 and @PERSON1, who was the remaining chaperon. We walked leasiurly down the hill, @PERSON2 and @PERSON4 doing most of the talking. Every so often they would ask me a question and I would answer in as few words as possible, and that's what was going on when we walked past a group of men, arguing, in front of a store and one of them yelled, \"@CAPS4, @CAPS5 @CAPS6! Whatcha doing? You goin' to your @CAPS7's house?\" We didn't really know who he was talking to, or what he was talking about, so we just kept walking, but as we reached the end of the block @PERSON4 and I simultaneously broke into laughter. The man was talking about me. The rest of the way down the hill we started coming up with different weird responses that I should have said to the man, each one being more hilarious than the last one, and as conversations go, we eventually got on different topics, which made me realize that @PERSON4 and I really did have many similar traits. We both loved musicals, we both enjoy reading, and we both have annoying, younger brothers. Ever since that day, @PERSON4 and I have been fairly good friends, all because we took a moment to laughed together.\n",
      "Precision: 0.6171423196792603, Recall: 0.5607898235321045, F1: 0.5876181125640869\n",
      "-----\n",
      "Candidate: Celebratory and Joyous\n",
      "\n",
      "Rodriguez's memoir exudes a celebratory and joyous mood. The vivid recounting of family celebrations, Cuban feasts, and the presence of extended family members creates an atmosphere of perpetual festivity. The kitchen, as the heart of his home, symbolizes joy and community. He describes the scene: \"It was here where I learned the real definition of 'family,'\" indicating the joyous essence of his upbringing.\n",
      "Reference: Dear @CAPS1, More and more people do use computers, but it is not a bad thing. Student come home from school tired, bored, and doesn't want to go outside and exercise. Students would rather go on the computer. When students go on the computer they can chat thier friends, listen to music, or learn about distant places. Firstly, students would chat their friends on the computer. When it is winter, students can't go outside and exercise. Students can grab their laptop, and go on their warm and comfortable table bed to chat friends. Maybe a friend can help with homework. Going outside in the winter can make students sick and miss days of school. Secondly, students like to listen to music. Music is an important part to a student because music lyrics can express themselves. Students @MONTH1 be dancing to their favorite song. Dancing is exercise and adults do say we need more exercise. Also students can play very soft music than not doing homework at all. Thirdly, students can learn about distant places. When I am on the computer I type in www.google.com and want to learn about a place where I want sto visit other student might want to learn about places they've never visited. Italy, france, @LOCATION1, and much more places people would want to visit. They would want to learn about places before ever go. In conclusion @CAPS1, more and more people go on the computer, but it does not have to be a bad thing. Yes, students should go exercise but all the time. When students go on the computer they can chat with friends. Secondly, students can listen to music. Thirdly, they can learn about distant places. @CAPS1, it is not a bad thing that students go on the computer.\n",
      "Precision: 0.5985150933265686, Recall: 0.561297595500946, F1: 0.5793091654777527\n",
      "-----\n"
     ]
    }
   ],
   "source": [
    "from bert_score import score\n",
    "import pandas as pd\n",
    "\n",
    "# Đọc dữ liệu từ các tệp CSV\n",
    "df_references = pd.read_csv('/Users/nobitad/Workspace/MyProject/Seminar/Datasets/sampled_df.csv')\n",
    "df_candidates = pd.read_csv('/Users/nobitad/Workspace/MyProject/Seminar/Datasets/testing_set/concatenated_file.csv')\n",
    "\n",
    "# Đảm bảo số lượng mẫu trong cả dữ liệu tham chiếu và ứng viên là bằng nhau\n",
    "min_samples = min(len(df_references), len(df_candidates))\n",
    "df_references = df_references.sample(n=min_samples, random_state=42)\n",
    "df_candidates = df_candidates.sample(n=min_samples, random_state=42)\n",
    "\n",
    "# Chia dữ liệu thành các batch nhỏ hơn\n",
    "batch_size = 10\n",
    "num_batches = min_samples // batch_size\n",
    "\n",
    "all_P, all_R, all_F1 = [], [], []\n",
    "results = []\n",
    "\n",
    "for i in range(num_batches):\n",
    "    batch_references = df_references.iloc[i*batch_size:(i+1)*batch_size]['essay'].values.tolist()\n",
    "    batch_candidates = df_candidates.iloc[i*batch_size:(i+1)*batch_size]['essay'].values.tolist()\n",
    "\n",
    "    P, R, F1 = score(batch_candidates, batch_references, lang=\"vi\", verbose=True)\n",
    "    all_P.append(P.mean().item())\n",
    "    all_R.append(R.mean().item())\n",
    "    all_F1.append(F1.mean().item())\n",
    "\n",
    "    # Lưu trữ điểm số và các cặp văn bản\n",
    "    for j in range(len(batch_candidates)):\n",
    "        results.append({\n",
    "            'candidate': batch_candidates[j],\n",
    "            'reference': batch_references[j],\n",
    "            'precision': P[j].item(),\n",
    "            'recall': R[j].item(),\n",
    "            'f1': F1[j].item()\n",
    "        })\n",
    "\n",
    "# Tính điểm trung bình cho toàn bộ tập dữ liệu\n",
    "avg_P = sum(all_P) / num_batches\n",
    "avg_R = sum(all_R) / num_batches\n",
    "avg_F1 = sum(all_F1) / num_batches\n",
    "\n",
    "print(f\"Precision: {avg_P}, Recall: {avg_R}, F1: {avg_F1}\")\n",
    "\n",
    "# Chọn các cặp văn bản có điểm số F1 thấp\n",
    "low_score_pairs = [res for res in results if res['f1'] < 0.6]\n",
    "\n",
    "# Phân tích chi tiết các cặp văn bản có điểm số thấp\n",
    "for pair in low_score_pairs:\n",
    "    print(f\"Candidate: {pair['candidate']}\")\n",
    "    print(f\"Reference: {pair['reference']}\")\n",
    "    print(f\"Precision: {pair['precision']}, Recall: {pair['recall']}, F1: {pair['f1']}\")\n",
    "    print(\"-----\")"
   ]
  },
  {
   "cell_type": "code",
   "execution_count": 23,
   "metadata": {},
   "outputs": [
    {
     "name": "stdout",
     "output_type": "stream",
     "text": [
      "calculating scores...\n",
      "computing bert embedding.\n"
     ]
    },
    {
     "data": {
      "application/vnd.jupyter.widget-view+json": {
       "model_id": "ca044b58a8b14dc88c0a66224f2c27cd",
       "version_major": 2,
       "version_minor": 0
      },
      "text/plain": [
       "  0%|          | 0/3 [00:00<?, ?it/s]"
      ]
     },
     "metadata": {},
     "output_type": "display_data"
    },
    {
     "name": "stdout",
     "output_type": "stream",
     "text": [
      "computing greedy matching.\n"
     ]
    },
    {
     "data": {
      "application/vnd.jupyter.widget-view+json": {
       "model_id": "98fcfa6b288f45609dbee6f035a180e1",
       "version_major": 2,
       "version_minor": 0
      },
      "text/plain": [
       "  0%|          | 0/2 [00:00<?, ?it/s]"
      ]
     },
     "metadata": {},
     "output_type": "display_data"
    },
    {
     "name": "stdout",
     "output_type": "stream",
     "text": [
      "done in 97.70 seconds, 0.70 sentences/sec\n",
      "Precision: 0.6155175566673279, Recall: 0.5990347862243652, F1: 0.6066120862960815\n"
     ]
    },
    {
     "name": "stderr",
     "output_type": "stream",
     "text": [
      "/Users/nobitad/anaconda3/lib/python3.11/site-packages/seaborn/_oldcore.py:1498: FutureWarning: is_categorical_dtype is deprecated and will be removed in a future version. Use isinstance(dtype, CategoricalDtype) instead\n",
      "  if pd.api.types.is_categorical_dtype(vector):\n",
      "/Users/nobitad/anaconda3/lib/python3.11/site-packages/seaborn/_oldcore.py:1119: FutureWarning: use_inf_as_na option is deprecated and will be removed in a future version. Convert inf values to NaN before operating instead.\n",
      "  with pd.option_context('mode.use_inf_as_na', True):\n"
     ]
    },
    {
     "data": {
      "image/png": "[encoded data removed]",
      "text/plain": [
       "<Figure size 1000x600 with 1 Axes>"
      ]
     },
     "metadata": {},
     "output_type": "display_data"
    },
    {
     "name": "stdout",
     "output_type": "stream",
     "text": [
      "\n",
      "Bài luận có điểm F1 cao nhất:\n",
      "Candidate: Navigating Cultural Identity in \"Winter Hibiscus\"\n",
      "In \"Winter Hibiscus\" by Minfong Ho, Saeng's encounter with familiar plants highlights the complexities of navigating cultural identity in a new environment. Despite feeling alienated and disconnected in the United States, Saeng finds solace and comfort in the presence of plants from her homeland. The closing paragraph, where Saeng resolves to retake her driver's test, symbolizes her determination to forge a sense of belonging while honoring her Vietnamese heritage.\n",
      "Reference: The author ends the story with that paragraph because she is trying to overcome an obstacle. Failing the drivers test was a set back for Saeng so she plans to take it again. She plans to use the hibiscus as motivation, because the winter for the hibiscus is like overcoming an obstacle.\n",
      "Precision: 0.6730895638465881, Recall: 0.6961941719055176, F1: 0.6844469308853149\n",
      "-----\n",
      "\n",
      "Bài luận có điểm F1 thấp nhất:\n",
      "Candidate: The Empire's Beacon: Illuminating the Skies\n",
      "Highlight the unique feature of the illuminated mooring mast and its significance as a beacon in the New York City skyline. Discuss how the lighting design contributed to the building's iconic status and served as a symbol of progress and innovation.\n",
      "Reference: I think people should not spend so much time on the computer. This are three reason a think that. My frist reason is if people stay on the computer for a long amount of time it can mess up the way you see. My second reason itis that you could be spending time with family and friends. My last reason is that people that sit all day on a computer gain more weight. First I think people should not be staying on the computer all day. Because it can mess up the way you see this can happen because from u looking at a computer screen all day or eyes can get mess up. I think u should never stay on a computer for no more than a hour. And sometimes u no u been on it for to long when ur eyes started to hurt. My second reason u should not stay on the computer for a long time is because when u are secting there. Doing wat you are doing. You can be messing out on fun thing that u can be doing with ur family our with friends. But some people would just like to sect all day end look at a computer screen and some people start not to like going out our even beeging a social person. My last reason people should not be on the computer for a long time because some people will just seat there and eat food all day. And this will make them get more weight. And this can make there life wader because now they are on heelthy they are just seating down all day anyways. And they should be going outside end running around. This are my three reason I think people should not stay on the computer all day. One it mess up they way u see, second you are messing out on fun thing u can do with our family, end last people are graning more weight when seat on the computer all day.\n",
      "Precision: 0.5592498779296875, Recall: 0.50465989112854, F1: 0.5305543541908264\n",
      "-----\n"
     ]
    },
    {
     "name": "stderr",
     "output_type": "stream",
     "text": [
      "/Users/nobitad/anaconda3/lib/python3.11/site-packages/seaborn/_oldcore.py:1498: FutureWarning: is_categorical_dtype is deprecated and will be removed in a future version. Use isinstance(dtype, CategoricalDtype) instead\n",
      "  if pd.api.types.is_categorical_dtype(vector):\n",
      "/Users/nobitad/anaconda3/lib/python3.11/site-packages/seaborn/_oldcore.py:1498: FutureWarning: is_categorical_dtype is deprecated and will be removed in a future version. Use isinstance(dtype, CategoricalDtype) instead\n",
      "  if pd.api.types.is_categorical_dtype(vector):\n",
      "/Users/nobitad/anaconda3/lib/python3.11/site-packages/seaborn/_oldcore.py:1498: FutureWarning: is_categorical_dtype is deprecated and will be removed in a future version. Use isinstance(dtype, CategoricalDtype) instead\n",
      "  if pd.api.types.is_categorical_dtype(vector):\n"
     ]
    },
    {
     "data": {
      "image/png": "[encoded data removed]",
      "text/plain": [
       "<Figure size 1000x600 with 1 Axes>"
      ]
     },
     "metadata": {},
     "output_type": "display_data"
    },
    {
     "name": "stdout",
     "output_type": "stream",
     "text": [
      "\n",
      "Top 5 bài luận có điểm F1 cao nhất:\n",
      "Candidate: Navigating Cultural Identity in \"Winter Hibiscus\"\n",
      "In \"Winter Hibiscus\" by Minfong Ho, Saeng's encounter with familiar plants highlights the complexities of navigating cultural identity in a new environment. Despite feeling alienated and disconnected in the United States, Saeng finds solace and comfort in the presence of plants from her homeland. The closing paragraph, where Saeng resolves to retake her driver's test, symbolizes her determination to forge a sense of belonging while honoring her Vietnamese heritage.\n",
      "Reference: The author ends the story with that paragraph because she is trying to overcome an obstacle. Failing the drivers test was a set back for Saeng so she plans to take it again. She plans to use the hibiscus as motivation, because the winter for the hibiscus is like overcoming an obstacle.\n",
      "Precision: 0.6730895638465881, Recall: 0.6961941719055176, F1: 0.6844469308853149\n",
      "-----\n",
      "Candidate: The Journey Through Isolation\n",
      "\n",
      "The setting in Joe Kurmaskie's essay significantly impacts the cyclist by immersing him in isolation and challenging his endurance. The journey begins with a deceptive sense of peace at the reservoir campground outside of Lodi, California. However, as the cyclist follows the old-timers' advice, he quickly finds himself in a barren, unforgiving landscape.\n",
      "\n",
      "The first \"town\" he encounters is a ghost town, reflecting the area's decline and isolation. This sets the stage for the cyclist's journey through a desolate environment where resources are scarce. The lack of water sources becomes a critical issue, as evidenced by the brackish water from the rusted pump, which only exacerbates his dehydration.\n",
      "\n",
      "The high deserts of California, with their intense heat and rolling hills, further isolate the cyclist. The warning sign of \"ROUGH ROAD AHEAD: DO NOT EXCEED POSTED SPEED LIMIT\" serves as a stark reminder of the challenges ahead. The cyclist's slow pace of 12 mph highlights the difficulty of navigating this terrain, contrasting sharply with the posted speed limit of 55 mph.\n",
      "\n",
      "Encounters with tumbleweeds and a large snake add to the sense of danger and isolation. The abandoned Welch’s Grape Juice factory symbolizes the cyclist's dashed hopes and the irony of his situation. Despite the harsh reality of the setting, the cyclist's perseverance and eventual discovery of Gary and Wilber’s Fish Camp highlight the resilience required to navigate such an unforgiving environment.\n",
      "Reference: Due to the features in the setting, including the hot summer weather, the cyclist not knowing the area, and the California desert the cyclist is affected. In the short story Do not exceed posted speed limit by Joe Kurmaskie the cyclist is travelling through the hot desert in June when he realizes hes running out of water, I had been hitting my water bottles pretty reguarly and I was travelling through the high deserts of California in June(Kurmaskie). This is affecting the cyclist because hes becoming hot and has a low supply of water. Also the cyclist realizes he should have never taken the direction from the old men and thinks to himself, The growing realization that I could drop from heat stroke on a gorgeous day in June(Kurmaskie). This quote proves that the heat of the desert is taking a toll on him.\n",
      "Precision: 0.6561199426651001, Recall: 0.7072418928146362, F1: 0.6807224750518799\n",
      "-----\n",
      "Candidate: Title: Upholding Freedom: The Case Against Censorship in Libraries\n",
      "\n",
      "In the ongoing discourse surrounding censorship in libraries, it is crucial to uphold the principles of intellectual freedom and diversity of expression. As Katherine Paterson poignantly asserts, the ability to remove materials deemed objectionable sets a dangerous precedent, threatening the very essence of a library as a repository of knowledge and ideas. Thus, I firmly oppose any form of censorship in libraries, including the removal of books, music, movies, or magazines.\n",
      "\n",
      "Censorship in libraries not only infringes upon the fundamental right to access information but also stifles the exchange of ideas essential for a thriving democracy. By selectively removing materials based on subjective interpretations of offensiveness, censors undermine the autonomy of individuals to explore diverse perspectives and form their own opinions. This not only hampers intellectual growth but also perpetuates a climate of intellectual conformity and stagnation.\n",
      "\n",
      "Moreover, censorship in libraries is a form of intellectual paternalism that undermines individual autonomy and agency. By presuming to dictate what individuals can or cannot read, watch, or listen to, censors infringe upon the fundamental principle of freedom of choice. It is not the role of libraries or any other authority to shield individuals from ideas that some may find uncomfortable or objectionable.\n",
      "\n",
      "Furthermore, the notion of offensiveness is inherently subjective and varies greatly across individuals and communities. What one person deems offensive, another may find enlightening or thought-provoking. To impose one group's moral or cultural standards on an entire community not only stifles diversity of thought but also perpetuates a climate of intolerance and censorship.\n",
      "\n",
      "Critics of unrestricted access to library materials often argue that certain content may be harmful, particularly to young or impressionable minds. While this concern is valid, censorship is not the solution. Instead of banning or removing materials outright, we should focus on promoting media literacy and critical thinking skills. By equipping individuals with the tools to evaluate information critically, we empower them to make informed choices and navigate the complexities of the modern media landscape.\n",
      "\n",
      "In conclusion, censorship in libraries undermines the principles of intellectual freedom and diversity of thought that are essential for a free and democratic society. Instead of succumbing to the impulse to censor, we must reaffirm our commitment to the principles of free speech and open inquiry. Only by embracing diverse perspectives and ideas can we truly enrich our understanding of the world and foster a more inclusive and democratic society.\n",
      "Reference: I do not believe books, music, and magazines should be removed from shelves. Wherever you go in the world, whether you like it or not, your going to come in contact with things you don't find appropriate or you think are offensive. @TIME1 world is far from perfect. One reason i don't belive they should be removed is because it would be unconstitutional. The freedon of speech and the press was not ment to be tampered with. If a specific library thinks their articles are innapropriate, an easy solution would be to put these articles in a certain section of the library and warn people what they are.     The main reason I don't believe books, music, and magazines should be removed from the shelves is becuase the world is a nasty place and books are the least of your concerns. Kids can't be sheltered their whole lifes, they need to face reality and books are a good source of that. Kids these days are resiliant and can handle 'innapropriate' content. Parents need to face the fact that their kids are going to be exposed to offensive things in @TIME1 imperfect world of ours. It's just a natural part of growing up.     Another contributing factor is that it would be unconstitutional to remove books and other articles from the shelves of @LOCATION1's libraries. When the amendments freedom of speech and press were written down they were intended to stay there. They are not guidlines that can be looked over, they are rules set in stone for @TIME1 great country. People to @TIME1 for freedom over much bigger issues than books. Who are we to tell people what they can and can't write down. People's natural opinions can't and shouldn't be governed. I think it would be a crime against @LOCATION1 to censor things in libraries.     My final reason for not censoring libraries is that it all boils down to the people running the library. If they think some of their articles are profound and innapropriate, meerly isolate them to a certain section of the library and put a warning for people to see. If people don't want to be offended they simply have to just stay away from these sections. Take responsibilty for what is in these libraries that is apparently so offending and put them in their own area and stay away from them, do not take them out completely, because who knows someone @MONTH1 want that offending book.     These are all supporting opinions why I personally do not belive libraries should be censored. @TIME1 world is far from perfect and it's not going to become perfect by censoring libraries. Plus @TIME1 act would be completely unconstitutional. Finally all the libraries have to do is exile these articles to certain areas of the libraries and slap a warning on them. If libraries were censored there would be a lot of missing information in @TIME1 world because there are many things in @TIME1 world that are 'offensive' to atleast someone\n",
      "Precision: 0.6785827875137329, Recall: 0.6745134592056274, F1: 0.6765419840812683\n",
      "-----\n",
      "Candidate: Title: Preserving Freedom of Expression: Rejecting Censorship in Libraries\n",
      "\n",
      "In the ongoing debate surrounding censorship in libraries, it is crucial to uphold the principles of intellectual freedom and diversity of expression. As Katherine Paterson aptly asserts, the right to remove materials deemed offensive poses a serious threat to the free exchange of ideas and the autonomy of individuals. Thus, I firmly oppose any form of censorship in libraries, including the removal of books, music, movies, or magazines.\n",
      "\n",
      "Censorship in libraries not only undermines the fundamental right to access information but also stifles the free exchange of ideas essential for a vibrant democracy. By selectively removing materials based on subjective interpretations of offensiveness, censors infringe upon individuals' autonomy to explore diverse perspectives and form their own opinions. This not only inhibits intellectual growth but also fosters a culture of intellectual conformity and stagnation.\n",
      "\n",
      "Moreover, censorship in libraries represents a form of intellectual paternalism that undermines individual autonomy and agency. By presuming to dictate what individuals can or cannot read, watch, or listen to, censors infringe upon the fundamental principle of freedom of choice. It is not the role of libraries or any other authority to shield individuals from ideas that some may find uncomfortable or objectionable.\n",
      "\n",
      "Furthermore, the notion of offensiveness is inherently subjective and varies greatly across individuals and communities. What one person deems offensive, another may find enlightening or thought-provoking. To impose one group's moral or cultural standards on an entire community not only stifles diversity of thought but also perpetuates a climate of intolerance and censorship.\n",
      "\n",
      "Critics of unrestricted access to library materials often argue that certain content may be harmful, particularly to young or impressionable minds. While this concern is valid, censorship is not the solution. Instead of banning or removing materials outright, we should focus on promoting media literacy and critical thinking skills. By equipping individuals with the tools to evaluate information critically, we empower them to make informed choices and navigate the complexities of the modern media landscape.\n",
      "\n",
      "In conclusion, censorship in libraries undermines the principles of intellectual freedom and diversity of thought that are essential for a free and democratic society. Instead of succumbing to the impulse to censor, we must reaffirm our commitment to the principles of free speech and open inquiry. Only by embracing diverse perspectives and ideas can we truly enrich our understanding of the world and foster a more inclusive and democratic society.\n",
      "Reference:  Laughter is an extremely important aspect for maintaining a relationship with someone or even a group of people. Some greatly beneficial uses of laughter include relieving tension in any intense or high pressure situation as well as connecting with other people in a more meaningful way. The implication of laughter is also a great way to create new friends. It is my opinion that healthy relationships whether they be a friendship or even greater, hardly exist without laughter and cannot flourish without it. I personally use laughter on a daily basis for these reasons among many others and it is a monumental element of my relationship with my father's side of the family. One specific example of how I utilize the essential tool of laughter in my family is to reconnect with members whom i have not seen in a long period of time. Laughter is a tremendous element of my relationship with my father's entire family, and small family meetings as well as full family reunions do not exist without it. Being that they are scattered across @LOCATION2, and very few live in the vicinity of @LOCATION1, visiting with these family members is a rare occasion. The most admirable quality of my father's side of the family is the innate sense of humor that everyone shares. Laughter simply seems to be another form of communication for our family and is the main reason we get along so well. Relationships that I share with individual family members can be observed in every family assembly as well. Just @DATE1 my sister was pregnant with her first child and her baby shower was set to be in @DATE2. This event holds a specific example where laughter was a predominant element of a relationship between myself and one of my family members. Not only was I to be the only guy there, but I was also to be placed at a table with my aunt whom I had not seen for over a year. Although we had always enjoyed eachother's company in the past, I dreaded an awkward reunion and sitting in complete silence for the entirety of the festivities. The day of my sister's baby shower inevitably arrived and to my surprise, I was nervous. I assisted with the set up of the decorations as well as the other amenities and found my seat. Within ten minutes of doing so, my aunt and table partner entered and located her seat which was adjacent to mine. However nervous I had been, the very first thing my aunt did eased any tension that had built up in me and reminded me why I get along so well with my father's family. My aunt greeted me by cracking a joke towards how I was the only guy attending the shower. For the duration of the party, all I heard was jokes coming from my aunt and the laughter shared between the two of us. We reconnected and bonded as both family members as well as good friends and the use of laughter was responsible for it all. Through the use of laughter my aunt and I reconnected with one another and possibly had the most fun out of anyone who attended. Whether we were making jokes about some of the party gifts, or simply enjoying one of the ridiculous games, my aunt and myself were laughing hysterically. on this specific day and many others before and after, laughter was not only an element, but was the sole reason for my friendly relationship with my aunt.\n",
      "Precision: 0.6603322625160217, Recall: 0.6564566493034363, F1: 0.6583887934684753\n",
      "-----\n",
      "Candidate: Finding Home Through Nature: A Reflection on \"Winter Hibiscus\"\n",
      "The closing paragraph of \"Winter Hibiscus\" by Minfong Ho encapsulates Saeng's journey of adaptation and resilience in her new environment. Through her encounter with familiar plants from her childhood in Vietnam, Saeng reconnects with her roots and finds solace amidst the unfamiliarity of her new home in the United States. The hibiscus, dok Malik, and Madagascar periwinkle serve as tangible reminders of her past, evoking memories of her grandmother and the warmth of home.\n",
      "Reference: The author concludes the story with this sentence because it shows the girl the is willing to overcome obstacles and although she @MONTH1 have failed once she will keep trying, It also shows a connection between the geese and the hibiscus and the girl wanting to overcome her obstacles. Also the girl wants to overcome her obstacle at a certain time.\n",
      "Precision: 0.6449428796768188, Recall: 0.6674641966819763, F1: 0.6560103297233582\n",
      "-----\n",
      "\n",
      "Top 5 bài luận có điểm F1 thấp nhất:\n",
      "Candidate: The Harsh Realities of Nature\n",
      "\n",
      "In Joe Kurmaskie's essay, the setting's harsh realities profoundly affect the cyclist's journey, transforming it from a leisurely ride into a test of endurance and survival. The initial setting at the reservoir campground outside of Lodi, California, provides a false sense of tranquility and ease. However, as the cyclist ventures deeper into the high deserts, the true nature of the setting reveals itself.\n",
      "\n",
      "The cyclist's encounter with ghost towns and dilapidated structures underscores the desolation of the landscape. The lack of reliable water sources, such as the brackish water from the rusted pump, exacerbates his dehydration and desperation. The sun's relentless heat and the rolling hills replace the flat roads, further depleting his energy and morale.\n",
      "\n",
      "The warning sign of \"ROUGH ROAD AHEAD: DO NOT EXCEED POSTED SPEED LIMIT\" serves as a grim reminder of the challenges ahead. The cyclist's slow pace of 12 mph contrasts sharply with the posted speed limit of 55 mph, highlighting the difficulty of the journey. Encounters with tumbleweeds and a large snake add to the sense of danger and isolation.\n",
      "\n",
      "The abandoned Welch’s Grape Juice factory symbolizes the cyclist's dashed hopes and the irony of his situation. Despite the harsh reality of the setting, the cyclist's perseverance and eventual discovery of Gary and Wilber’s Fish Camp highlight the resilience required to navigate such an unforgiving environment.\n",
      "Reference: Dear local newspaper, @CAPS1 name is @PERSON1. I am @NUM1 years old and I go to a @ORGANIZATION1 in @LOCATION1 called @ORGANIZATION1. I am a really smart kid. In @CAPS1 opinion I benefit people using computers. You should keep reading @CAPS1 essay because I am going to tell you @NUM2 good reasons why I benefit people using computers. @CAPS1 first reason is they teach hand eye coordination, give people the ability to learn about far away places and people. For example, when I am always using the computer and when I'm doing research it always gives me the ability to learn about new places and people. Another example is when ever I watch @CAPS2.V on @CAPS3 @NUM3 it says that people learn about learn about faraway places and people on the internet @PERCENT1 of the time. @CAPS1 second reason is it allows people to talk online with other people for example when I am on the computer everyday I visit @CAPS1 facebook it always gives me a chance to talk to @CAPS1 friends and other people online. Another example is when I go on a computer and I search computers.org it says that it lets people @PERCENT2 of the time talk to others online. @CAPS1 @NUM4 reason is it allows students to get information when they're doing a project. For example when I always use the @ORGANIZATION1 computers it allows me to get information for example, about @LOCATION2 and @PERSON2 govina that is why I benefit people using computers. Another example is when ever I check out a magazine on computers it tells me that kids get alot of information when they're doing projects @PERCENT2 of the time. In conclusion, I benefit people using computers because they teach hand eye coordination, gives people the ability to learn about faraway places and people, it allows people to talk online with other people and it allows students to get information when they're doing projects. Those are the @NUM2 reasons why I benefit people using computers. So please the local newspaper please try to make this believable.\n",
      "Candidate: From Vision to Reality: The Rise and Fall of Dirigible Transportation\n",
      "Trace the evolution of dirigible transportation from a promising vision of the future to a failed endeavor overshadowed by the rise of airplanes. Explore how technological advancements and safety concerns contributed to the demise of dirigibles as a viable mode of travel.\n",
      "Reference: Do you think that certain materials should be removed off library's bookselfs if someone dislikes or does not agree with the topic or the plot? Do you believe that a book should be banned from any public library just because someone has a negative opinion about what the book is convincing readers?     I believe that every person has the choice to not read a book or magazine, or even watch a movie, if they find it offensive.     'All of us can think of a book that we hope none of our children or any other children have taken off the self. But if I have the right to remove that book from the self- that work I abhor- then you also have exactly the same right and so does everyone else. And then we have no book left on the self for any of us.' @CAPS1 quote from the arthur, Katherine Paterson, from my opinion, I believe that what she is saying is very true. Considering that everyone has a different opinion on many things, if everyone had a right to remove one book that they did not like or felt it was offensive from the self, there would not be a varity of books for people to choose from. I have sometimes gotten corious about what a friend was reading and asked them if they thought it was a good book. They either tell me it is a good novel or tell me it was horrible. Then I would read a few pages and I would think it was pretty good. So if they had the right to remove that book I would have never got the chance to read that book.     I do not believe that people should be able to remove books from shelfs just on their specific personality. Everyone has a different opinion or perspective about books. Everyone should get a large variety\n",
      "Candidate: Battling the Elements: Overcoming Wind and Weather\n",
      "Explore the engineering challenges posed by the unpredictable winds at the top of the Empire State Building, which rendered dirigible docking impractical. Discuss the efforts made to mitigate these challenges and ensure the safety of both airship passengers and city residents.\n",
      "\n",
      "\n",
      "Reference:  Imagine this, flying past trees on a @CAPS1 @NUM1, four wheeler trying to keep up with everybody that's in front of you. That is how it was on new years eve.  We headed out from the house at about @NUM2 o'clock pm. When we left the house we headed for one of our friends house because we asked them earlier if they wanted to go. So when we left we had to leave fast so we were not on the the road for a long time. When we got to our friends house we hung out for a little while then asked them if they still wanted to go on a ride with us. They got all ready then at about @NUM2:45 we all headed out. All together now there was about @TIME1 of us about to head up on gillhooly on this ride.  When we finally got to the top of the mountain it was about @NUM4 o'clock pm. So we just hung out until @NUM5 o'clock. When I say hangout I mean we hit some mud holes and played around a little bit. By the time we were all muddy it was about @NUM4:55 pm. So we set up some fireworks to shoot off. Then about @TIME1 we shot all of them off. There was only about @TIME1 or @NUM7 of them. We started to head back home at about @NUM8 in the @TIME2 but one of our friends got stuck in some snow off the side of the road. We spent about a half hour digging him out before we finally headed back home. We arrived back at the house at @NUM9 in the @TIME2. We all got something to eat because we were all hungry then we watched a little @CAPS2 then headed to bed for the night.  \n",
      "Candidate: Overcoming Adversity with Laughter\n",
      "Narrate a story where laughter helped you overcome a personal challenge or setback. Reflect on a moment of levity that provided perspective and resilience during a difficult time, demonstrating how humor can be a powerful coping mechanism in the face of adversity.\n",
      "Reference:  A @CAPS1 @CAPS2 The @CAPS3 @CAPS4 was a warm @DATE1 @CAPS1, some of my friends and I had planned to spend a @CAPS1 @CAPS2 the @CAPS3. We had decided on walking around and looking @CAPS2 all the cool stores. Eventually we would all get lunch and go out to the park near the river right next to the @CAPS3. We all agreed that @CAPS4 was a great plan and we would all have a wonderful @CAPS1. To start off, we all met @CAPS2 the bus stop by the movies. @PERSON3, @PERSON4, @PERSON2, @CAPS5 and I were all there. We decided to go look inside @CAPS6 @CAPS7 first because they have all the crazy things we love. Inside the store, I found a dress that was to die for. @CAPS4 was small and grey with skulls all over @CAPS4. Unfortunately, @CAPS4 costed @MONEY1 that i did not have, so we left @CAPS6 @CAPS7. Next, we went to @NUM1 @CAPS10 to see what they had in store for us. @PERSON3 and I created a black teddy @PERSON1 with a studded leather jacket. We gave @CAPS4 an awsome top hat and named @CAPS4 @CAPS11 @PERSON1. We all thought @CAPS4 was pretty funny because teddy bears are supposed to be cute and this one was kind of scary. We paid @MONEY2 for @CAPS4 and continued on our little adventure. We all decided @CAPS4 was about lunch time so we went and got chineese food from @ORGANIZATION1, left the @CAPS3, and headed down to the park next to the river. Before we got to the park, we stopped to go see what @CAPS4 was like under the bridge. There were towers of rocks all over the place, so we decided to build one of our own. We stacked @CAPS4 up almost as tall as me before @CAPS4 toppled over, almost crushing @PERSON4 on the way down. We followed the little path away from the rock towers down to the river. @CAPS4 lead us to a little beach next to the water. There was a huge pillar separating the trees and bushes from the water. We decided to eat lunch here instead of going to the park. After eating lunch, we were all full of energy again. @CAPS5 started a pine cone war by tagging me in the back of the head with one. After a few minutes, all of us were involved. We used the giant pillar from the bridge as a shield but @CAPS4 didn't quite work. @PERSON4, who had a better aim than all of us, was hitting everyone left and right, so the rest of us teamed up on him. We all threw pine cones one after the other untill @PERSON4 had to start backing away. As he reached the edge of the shore, he tripped over a big rock and fell backwards into the shallow water. Instantly, we all busted out in a roar of laughter that continued on for a good couple of minutes before @CAPS5 finally decided on helping @PERSON4 out of the water. He was very unhappy about the situation while we were all quite pleased. Jesica had managed to get a vidio of the whole thing and when we played @CAPS4 back to @PERSON4 he couldn't help but laugh with us. After that, we went to the park. Immediately, we all ran for the slide. \"I wanna go first!\" screamed @PERSON3 as we all made @CAPS4 up the jungle jim to the slide. All of us pushed and shoved to get to the slide before I finally suggested going down the big, swirly slide all together. Everyone els thought @CAPS4 was a great idea so we attempted @CAPS4. @PERSON3 was first, as she wanted, I was second, followed by @PERSON2, @PERSON4, and then @CAPS5. We started off realy slow and progressed in speed as more of us piled onto the slide. We ended in a pile @CAPS2 the bottom, all laughing histarically. When we all came back to reality we realized @CAPS4 was time to head home so we all grabbed our things and headed for the bus stop. In the end, @CAPS4 had turned out to be an even better @CAPS1 than we had expected. The whole @CAPS1 was full of joy and laughter, whitch are a few of the key aspects of life. Without laughter, there would be no way to @ORGANIZATION1 when you are extremely happy or when you think something is funny. Happiness is one thing you need to live a fun, fulfilling life. I feel like the ability to laugh is one thing that makes a person fun to have around. Do you think you laugh often enough?\n",
      "Candidate: The Empire's Beacon: Illuminating the Skies\n",
      "Highlight the unique feature of the illuminated mooring mast and its significance as a beacon in the New York City skyline. Discuss how the lighting design contributed to the building's iconic status and served as a symbol of progress and innovation.\n",
      "Reference: I think people should not spend so much time on the computer. This are three reason a think that. My frist reason is if people stay on the computer for a long amount of time it can mess up the way you see. My second reason itis that you could be spending time with family and friends. My last reason is that people that sit all day on a computer gain more weight. First I think people should not be staying on the computer all day. Because it can mess up the way you see this can happen because from u looking at a computer screen all day or eyes can get mess up. I think u should never stay on a computer for no more than a hour. And sometimes u no u been on it for to long when ur eyes started to hurt. My second reason u should not stay on the computer for a long time is because when u are secting there. Doing wat you are doing. You can be messing out on fun thing that u can be doing with ur family our with friends. But some people would just like to sect all day end look at a computer screen and some people start not to like going out our even beeging a social person. My last reason people should not be on the computer for a long time because some people will just seat there and eat food all day. And this will make them get more weight. And this can make there life wader because now they are on heelthy they are just seating down all day anyways. And they should be going outside end running around. This are my three reason I think people should not stay on the computer all day. One it mess up they way u see, second you are messing out on fun thing u can do with our family, end last people are graning more weight when seat on the computer all day.\n"
     ]
    }
   ],
   "source": [
    "from bert_score import score\n",
    "import pandas as pd\n",
    "import matplotlib.pyplot as plt\n",
    "import seaborn as sns\n",
    "\n",
    "# Đọc dữ liệu từ các tệp CSV\n",
    "df_references = pd.read_csv('/Users/nobitad/Workspace/MyProject/Seminar/Datasets/sampled_df.csv')\n",
    "df_candidates = pd.read_csv('/Users/nobitad/Workspace/MyProject/Seminar/Datasets/testing_set/concatenated_file.csv')\n",
    "\n",
    "# Đảm bảo số lượng mẫu trong cả dữ liệu tham chiếu và ứng viên là bằng nhau\n",
    "min_samples = min(len(df_references), len(df_candidates))\n",
    "df_references = df_references.sample(n=min_samples, random_state=42).reset_index(drop=True)\n",
    "df_candidates = df_candidates.sample(n=min_samples, random_state=42).reset_index(drop=True)\n",
    "\n",
    "# Lấy các bài luận và tính BERTScore\n",
    "references = df_references['essay'].values.tolist()  \n",
    "candidates = df_candidates['essay'].values.tolist()  \n",
    "\n",
    "# Tính toán BERTScore\n",
    "P, R, F1 = score(candidates, references, lang=\"vi\", verbose=True)\n",
    "\n",
    "# Thêm điểm số vào DataFrame\n",
    "df_candidates['precision'] = P.tolist()\n",
    "df_candidates['recall'] = R.tolist()\n",
    "df_candidates['f1'] = F1.tolist()\n",
    "\n",
    "# Tính điểm trung bình cho toàn bộ tập dữ liệu\n",
    "avg_P = P.mean().item()\n",
    "avg_R = R.mean().item()\n",
    "avg_F1 = F1.mean().item()\n",
    "\n",
    "print(f\"Precision: {avg_P}, Recall: {avg_R}, F1: {avg_F1}\")\n",
    "\n",
    "# Trực quan hóa phân phối điểm số\n",
    "plt.figure(figsize=(10, 6))\n",
    "sns.histplot(df_candidates['f1'], kde=True, bins=20, color='blue')\n",
    "plt.xlabel('F1 Score')\n",
    "plt.ylabel('Frequency')\n",
    "plt.title('Distribution of F1 Scores for Machine-Generated Essays')\n",
    "plt.show()\n",
    "\n",
    "# Tìm bài luận có điểm F1 cao nhất và thấp nhất\n",
    "max_f1_idx = df_candidates['f1'].idxmax()\n",
    "min_f1_idx = df_candidates['f1'].idxmin()\n",
    "\n",
    "print(\"\\nBài luận có điểm F1 cao nhất:\")\n",
    "print(f\"Candidate: {df_candidates.loc[max_f1_idx, 'essay']}\")\n",
    "print(f\"Reference: {df_references.loc[max_f1_idx, 'essay']}\")\n",
    "print(f\"Precision: {df_candidates.loc[max_f1_idx, 'precision']}, Recall: {df_candidates.loc[max_f1_idx, 'recall']}, F1: {df_candidates.loc[max_f1_idx, 'f1']}\")\n",
    "print(\"-----\")\n",
    "\n",
    "print(\"\\nBài luận có điểm F1 thấp nhất:\")\n",
    "print(f\"Candidate: {df_candidates.loc[min_f1_idx, 'essay']}\")\n",
    "print(f\"Reference: {df_references.loc[min_f1_idx, 'essay']}\")\n",
    "print(f\"Precision: {df_candidates.loc[min_f1_idx, 'precision']}, Recall: {df_candidates.loc[min_f1_idx, 'recall']}, F1: {df_candidates.loc[min_f1_idx, 'f1']}\")\n",
    "print(\"-----\")\n",
    "\n",
    "# Thêm biểu đồ boxplot để so sánh phân phối điểm số\n",
    "plt.figure(figsize=(10, 6))\n",
    "sns.boxplot(data=df_candidates[['precision', 'recall', 'f1']])\n",
    "plt.title('Boxplot of Precision, Recall, and F1 Scores')\n",
    "plt.show()\n",
    "\n",
    "# Phân tích thêm các bài luận có điểm F1 cao nhất và thấp nhất\n",
    "df_candidates_sorted = df_candidates.sort_values(by='f1', ascending=False)\n",
    "\n",
    "print(\"\\nTop 5 bài luận có điểm F1 cao nhất:\")\n",
    "for idx, row in df_candidates_sorted.head(5).iterrows():\n",
    "    print(f\"Candidate: {row['essay']}\")\n",
    "    print(f\"Reference: {df_references.loc[idx, 'essay']}\")\n",
    "    print(f\"Precision: {row['precision']}, Recall: {row['recall']}, F1: {row['f1']}\")\n",
    "    print(\"-----\")\n",
    "\n",
    "print(\"\\nTop 5 bài luận có điểm F1 thấp nhất:\")\n",
    "for idx, row in df_candidates_sorted.tail(5).iterrows():\n",
    "    print(f\"Candidate: {row['essay']}\")\n",
    "    print(f\"Reference: {df_references.loc[idx, 'essay']}\")\n",
    "   "
   ]
  },
  {
   "cell_type": "code",
   "execution_count": null,
   "metadata": {},
   "outputs": [],
   "source": []
  }
 ],
 "metadata": {
  "kernelspec": {
   "display_name": "base",
   "language": "python",
   "name": "python3"
  },
  "language_info": {
   "codemirror_mode": {
    "name": "ipython",
    "version": 3
   },
   "file_extension": ".py",
   "mimetype": "text/x-python",
   "name": "python",
   "nbconvert_exporter": "python",
   "pygments_lexer": "ipython3",
   "version": "3.11.5"
  }
 },
 "nbformat": 4,
 "nbformat_minor": 2
}
